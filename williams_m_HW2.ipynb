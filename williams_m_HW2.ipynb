{
 "metadata": {
  "name": "",
  "signature": "sha256:49ad5491db927b9f376ac27d06ab38d57b1469d02f191dd4718e400480a84186"
 },
 "nbformat": 3,
 "nbformat_minor": 0,
 "worksheets": [
  {
   "cells": [
    {
     "cell_type": "markdown",
     "metadata": {},
     "source": [
      "# Homework 2: More Exploratory Data Analysis\n",
      "## Gene Expression Data and Election Polls \n",
      "\n",
      "Due: Thursday, October 2, 2014 11:59 PM\n",
      "\n",
      "<a href=https://raw.githubusercontent.com/cs109/2014/master/homework/HW2.ipynb download=HW2.ipynb> Download this assignment</a>\n",
      "\n",
      "#### Submission Instructions\n",
      "To submit your homework, create a folder named lastname_firstinitial_hw# and place your IPython notebooks, data files, and any other files in this folder. Your IPython Notebooks should be completely executed with the results visible in the notebook. We should not have to run any code. Compress the folder (please use .zip compression) and submit to the CS109 dropbox in the appropriate folder. If we cannot access your work because these directions are not followed correctly, we will not grade your work.\n",
      "\n",
      "\n",
      "---"
     ]
    },
    {
     "cell_type": "markdown",
     "metadata": {},
     "source": [
      "## Introduction\n",
      "\n",
      "John Tukey wrote in [Exploratory Data Analysis, 1977](http://www.amazon.com/Exploratory-Data-Analysis-Wilder-Tukey/dp/0201076160/ref=pd_bbs_sr_2/103-4466654-5303007?ie=UTF8&s=books&qid=1189739816&sr=8-2): \"The greatest value of a picture is when it forces us to notice what we never expected to see.\" In this assignment we will continue using our exploratory data analysis tools, but apply it to new sets of data: [gene expression](http://en.wikipedia.org/wiki/Gene_expression) and polls from the [2012 Presidental Election](http://en.wikipedia.org/wiki/United_States_presidential_election,_2012) and from the [2014 Senate Midterm Elections](http://en.wikipedia.org/wiki/United_States_Senate_elections,_2014).   \n",
      "\n",
      "**First**: You will use exploratory data analysis and apply the [singular value decomposition](http://en.wikipedia.org/wiki/Singular_value_decomposition) (SVD) to a gene expression data matrix to determine if the the date that the gene expression samples are processed has large effect on the variability seen in the data.  \n",
      "\n",
      "**Second**: You will use the polls from the 2012 Presidential Elections to determine (1) Is there a pollster bias in presidential election polls? and (2) Is the average of polls better than just one poll?\n",
      "\n",
      "**Finally**: You will use the [HuffPost Pollster API](http://elections.huffingtonpost.com/pollster/api) to extract the polls for the current 2014 Senate Midterm Elections and provide a preliminary prediction of the result of each state.\n",
      "\n",
      "#### Data\n",
      "\n",
      "We will use the following data sets: \n",
      "\n",
      "1. A gene expression data set called `exprs_GSE5859.csv` and sample annotation table called `sampleinfo_GSE5859.csv` which are both available on Github in the 2014_data repository: [expression data set](https://github.com/cs109/2014_data/blob/master/exprs_GSE5859.csv) and [sample annotation table](https://github.com/cs109/2014_data/blob/master/sampleinfo_GSE5859.csv).  \n",
      "\n",
      "2. Polls from the [2012 Presidential Election: Barack Obama vs Mitt Romney](http://elections.huffingtonpost.com/pollster/2012-general-election-romney-vs-obama). The polls we will use are from the [Huffington Post Pollster](http://elections.huffingtonpost.com/pollster).  \n",
      "\n",
      "3. Polls from the [2014 Senate Midterm Elections](http://elections.huffingtonpost.com/pollster) from the [HuffPost Pollster API](http://elections.huffingtonpost.com/pollster/api). \n",
      "\n",
      "---"
     ]
    },
    {
     "cell_type": "markdown",
     "metadata": {},
     "source": [
      "## Load Python modules"
     ]
    },
    {
     "cell_type": "code",
     "collapsed": false,
     "input": [
      "# special IPython command to prepare the notebook for matplotlib\n",
      "%matplotlib inline \n",
      "\n",
      "import requests \n",
      "from StringIO import StringIO\n",
      "import numpy as np\n",
      "import pandas as pd # pandas\n",
      "import matplotlib.pyplot as plt # module for plotting \n",
      "import datetime as dt # module for manipulating dates and times\n",
      "import numpy.linalg as lin # module for performing linear algebra operations"
     ],
     "language": "python",
     "metadata": {},
     "outputs": [],
     "prompt_number": 1
    },
    {
     "cell_type": "markdown",
     "metadata": {},
     "source": [
      "## Problem 1\n",
      "\n",
      "In this problem we will be using a [gene expression](http://en.wikipedia.org/wiki/Gene_expression) data set obtained from a [microarray](http://en.wikipedia.org/wiki/DNA_microarray) experiement [Read more about the specific experiment here](http://www.ncbi.nlm.nih.gov/geo/query/acc.cgi?acc=GSE5859).  There are two data sets we will use:  \n",
      "\n",
      "1. The gene expression intensities where the rows represent the features on the microarray (e.g. genes) and the columsns represent the different microarray samples.  \n",
      "\n",
      "2. A table that contains the information about each of the samples (columns in the gene expression data set) such as the sex, the age, the treatment status, the date the samples were processed.  Each row represents one sample. "
     ]
    },
    {
     "cell_type": "markdown",
     "metadata": {},
     "source": [
      "#### Problem 1(a) \n",
      "Read in the two files from Github: [exprs_GSE5859.csv](https://github.com/cs109/2014_data/blob/master/exprs_GSE5859.csv) and [sampleinfo_GSE5859.csv](https://github.com/cs109/2014_data/blob/master/sampleinfo_GSE5859.csv) as pandas DataFrames called `exprs` and `sampleinfo`. Use the gene names as the index of the `exprs` DataFrame."
     ]
    },
    {
     "cell_type": "code",
     "collapsed": false,
     "input": [
      "# reads in csv file for expression data\n",
      "link = 'https://raw.githubusercontent.com/cs109/2014_data/master/exprs_GSE5859.csv'\n",
      "exprs = pd.read_csv(link)"
     ],
     "language": "python",
     "metadata": {},
     "outputs": [],
     "prompt_number": 72
    },
    {
     "cell_type": "code",
     "collapsed": false,
     "input": [
      "# reads in csv file for sampleInfo data\n",
      "link2 = 'https://raw.githubusercontent.com/cs109/2014_data/master/sampleinfo_GSE5859.csv'\n",
      "sampleinfo = pd.read_csv(link2)"
     ],
     "language": "python",
     "metadata": {},
     "outputs": [],
     "prompt_number": 73
    },
    {
     "cell_type": "markdown",
     "metadata": {},
     "source": [
      "Make sure the order of the columns in the gene expression DataFrame match the order of file names in the sample annotation DataFrame. If the order of the columns the `exprs` DataFrame do not match the order of the file names in the `sampleinfo` DataFrame, reorder the columns in the `exprs` DataFrame. \n",
      "\n",
      "**Note**: The column names of the gene expression DataFrame are the filenames of the orignal files from which these data were obtained.  \n",
      "\n",
      "**Hint**: The method `list.index(x)` [[read here](https://docs.python.org/2/tutorial/datastructures.html)] can be used to return the index in the list of the first item whose value is x. It is an error if there is no such item. To check if the order of the columns in `exprs` matches the order of the rows in `sampleinfo`, you can check using the method `.all()` on a Boolean or list of Booleans: \n",
      "\n",
      "Example code: `(exprs.columns == sampleinfo.filename).all()`"
     ]
    },
    {
     "cell_type": "code",
     "collapsed": false,
     "input": [
      "# relabels 'unnamed: 0' as gene name and sets 'gene name' as the index\n",
      "exprsgene = exprs.rename(columns={'Unnamed: 0':'Gene Name'})\n",
      "exprsgene = exprsgene.set_index('Gene Name')"
     ],
     "language": "python",
     "metadata": {},
     "outputs": [],
     "prompt_number": 75
    },
    {
     "cell_type": "code",
     "collapsed": false,
     "input": [
      "# turns the filename column into a list\n",
      "filelist = sampleinfo.filename.tolist()\n",
      "\n",
      "# reorders the columns in exprsgene to match the list 'filelist'\n",
      "exprs_new = exprsgene[filelist]\n",
      "\n",
      "# checks to see if all the columns in expr_new match the filename entries\n",
      "# in sampleinfo\n",
      "(exprs_new.columns == sampleinfo.filename).all()"
     ],
     "language": "python",
     "metadata": {},
     "outputs": [
      {
       "metadata": {},
       "output_type": "pyout",
       "prompt_number": 76,
       "text": [
        "True"
       ]
      }
     ],
     "prompt_number": 76
    },
    {
     "cell_type": "markdown",
     "metadata": {},
     "source": [
      "Show the head of the two tables: `exprs` and `sampleinfo`. "
     ]
    },
    {
     "cell_type": "code",
     "collapsed": false,
     "input": [
      "# sample info dataframe\n",
      "sampleinfo.head()"
     ],
     "language": "python",
     "metadata": {},
     "outputs": [
      {
       "html": [
        "<div style=\"max-height:1000px;max-width:1500px;overflow:auto;\">\n",
        "<table border=\"1\" class=\"dataframe\">\n",
        "  <thead>\n",
        "    <tr style=\"text-align: right;\">\n",
        "      <th></th>\n",
        "      <th>ethnicity</th>\n",
        "      <th>date</th>\n",
        "      <th>filename</th>\n",
        "      <th>sex</th>\n",
        "    </tr>\n",
        "  </thead>\n",
        "  <tbody>\n",
        "    <tr>\n",
        "      <th>0</th>\n",
        "      <td> CEU</td>\n",
        "      <td> 2003-02-04</td>\n",
        "      <td> GSM25349.CEL.gz</td>\n",
        "      <td> M</td>\n",
        "    </tr>\n",
        "    <tr>\n",
        "      <th>1</th>\n",
        "      <td> CEU</td>\n",
        "      <td> 2003-02-04</td>\n",
        "      <td> GSM25350.CEL.gz</td>\n",
        "      <td> M</td>\n",
        "    </tr>\n",
        "    <tr>\n",
        "      <th>2</th>\n",
        "      <td> CEU</td>\n",
        "      <td> 2002-12-17</td>\n",
        "      <td> GSM25356.CEL.gz</td>\n",
        "      <td> M</td>\n",
        "    </tr>\n",
        "    <tr>\n",
        "      <th>3</th>\n",
        "      <td> CEU</td>\n",
        "      <td> 2003-01-30</td>\n",
        "      <td> GSM25357.CEL.gz</td>\n",
        "      <td> M</td>\n",
        "    </tr>\n",
        "    <tr>\n",
        "      <th>4</th>\n",
        "      <td> CEU</td>\n",
        "      <td> 2003-01-03</td>\n",
        "      <td> GSM25358.CEL.gz</td>\n",
        "      <td> M</td>\n",
        "    </tr>\n",
        "  </tbody>\n",
        "</table>\n",
        "</div>"
       ],
       "metadata": {},
       "output_type": "pyout",
       "prompt_number": 78,
       "text": [
        "  ethnicity        date         filename sex\n",
        "0       CEU  2003-02-04  GSM25349.CEL.gz   M\n",
        "1       CEU  2003-02-04  GSM25350.CEL.gz   M\n",
        "2       CEU  2002-12-17  GSM25356.CEL.gz   M\n",
        "3       CEU  2003-01-30  GSM25357.CEL.gz   M\n",
        "4       CEU  2003-01-03  GSM25358.CEL.gz   M"
       ]
      }
     ],
     "prompt_number": 78
    },
    {
     "cell_type": "code",
     "collapsed": false,
     "input": [
      "# exprs dataframe with reordered columns\n",
      "exprs_new.head()"
     ],
     "language": "python",
     "metadata": {},
     "outputs": [
      {
       "html": [
        "<div style=\"max-height:1000px;max-width:1500px;overflow:auto;\">\n",
        "<table border=\"1\" class=\"dataframe\">\n",
        "  <thead>\n",
        "    <tr style=\"text-align: right;\">\n",
        "      <th></th>\n",
        "      <th>GSM25349.CEL.gz</th>\n",
        "      <th>GSM25350.CEL.gz</th>\n",
        "      <th>GSM25356.CEL.gz</th>\n",
        "      <th>GSM25357.CEL.gz</th>\n",
        "      <th>GSM25358.CEL.gz</th>\n",
        "      <th>GSM25359.CEL.gz</th>\n",
        "      <th>GSM25360.CEL.gz</th>\n",
        "      <th>GSM25361.CEL.gz</th>\n",
        "      <th>GSM25377.CEL.gz</th>\n",
        "      <th>GSM25378.CEL.gz</th>\n",
        "      <th>...</th>\n",
        "      <th>GSM136719.CEL.gz</th>\n",
        "      <th>GSM136720.CEL.gz</th>\n",
        "      <th>GSM136721.CEL.gz</th>\n",
        "      <th>GSM136722.CEL.gz</th>\n",
        "      <th>GSM136723.CEL.gz</th>\n",
        "      <th>GSM136724.CEL.gz</th>\n",
        "      <th>GSM136725.CEL.gz</th>\n",
        "      <th>GSM136726.CEL.gz</th>\n",
        "      <th>GSM136727.CEL.gz</th>\n",
        "      <th>GSM136729.CEL.gz</th>\n",
        "    </tr>\n",
        "    <tr>\n",
        "      <th>Gene Name</th>\n",
        "      <th></th>\n",
        "      <th></th>\n",
        "      <th></th>\n",
        "      <th></th>\n",
        "      <th></th>\n",
        "      <th></th>\n",
        "      <th></th>\n",
        "      <th></th>\n",
        "      <th></th>\n",
        "      <th></th>\n",
        "      <th></th>\n",
        "      <th></th>\n",
        "      <th></th>\n",
        "      <th></th>\n",
        "      <th></th>\n",
        "      <th></th>\n",
        "      <th></th>\n",
        "      <th></th>\n",
        "      <th></th>\n",
        "      <th></th>\n",
        "      <th></th>\n",
        "    </tr>\n",
        "  </thead>\n",
        "  <tbody>\n",
        "    <tr>\n",
        "      <th>1007_s_at</th>\n",
        "      <td> 6.627014</td>\n",
        "      <td> 6.249807</td>\n",
        "      <td> 5.934128</td>\n",
        "      <td> 6.145268</td>\n",
        "      <td> 6.091270</td>\n",
        "      <td> 6.041186</td>\n",
        "      <td> 6.050375</td>\n",
        "      <td> 6.063847</td>\n",
        "      <td> 6.226106</td>\n",
        "      <td> 6.358282</td>\n",
        "      <td>...</td>\n",
        "      <td> 6.466445</td>\n",
        "      <td> 6.533592</td>\n",
        "      <td> 6.631492</td>\n",
        "      <td> 6.513362</td>\n",
        "      <td> 6.440706</td>\n",
        "      <td> 6.704324</td>\n",
        "      <td> 6.488579</td>\n",
        "      <td> 6.809481</td>\n",
        "      <td> 6.133068</td>\n",
        "      <td> 6.155473</td>\n",
        "    </tr>\n",
        "    <tr>\n",
        "      <th>1053_at</th>\n",
        "      <td> 6.939184</td>\n",
        "      <td> 6.818038</td>\n",
        "      <td> 7.047962</td>\n",
        "      <td> 7.422477</td>\n",
        "      <td> 7.272361</td>\n",
        "      <td> 7.128216</td>\n",
        "      <td> 6.750719</td>\n",
        "      <td> 6.836287</td>\n",
        "      <td> 6.738022</td>\n",
        "      <td> 7.367895</td>\n",
        "      <td>...</td>\n",
        "      <td> 7.032885</td>\n",
        "      <td> 7.156344</td>\n",
        "      <td> 7.018025</td>\n",
        "      <td> 6.973322</td>\n",
        "      <td> 6.884738</td>\n",
        "      <td> 7.120898</td>\n",
        "      <td> 7.517410</td>\n",
        "      <td> 7.200596</td>\n",
        "      <td> 7.280781</td>\n",
        "      <td> 7.111583</td>\n",
        "    </tr>\n",
        "    <tr>\n",
        "      <th>117_at</th>\n",
        "      <td> 5.113570</td>\n",
        "      <td> 5.074096</td>\n",
        "      <td> 5.371201</td>\n",
        "      <td> 5.266550</td>\n",
        "      <td> 5.342047</td>\n",
        "      <td> 5.063876</td>\n",
        "      <td> 5.315898</td>\n",
        "      <td> 5.483652</td>\n",
        "      <td> 6.689444</td>\n",
        "      <td> 6.482782</td>\n",
        "      <td>...</td>\n",
        "      <td> 5.661112</td>\n",
        "      <td> 5.127260</td>\n",
        "      <td> 5.151840</td>\n",
        "      <td> 5.505602</td>\n",
        "      <td> 5.687689</td>\n",
        "      <td> 4.942651</td>\n",
        "      <td> 5.247190</td>\n",
        "      <td> 5.237239</td>\n",
        "      <td> 5.401876</td>\n",
        "      <td> 5.302628</td>\n",
        "    </tr>\n",
        "    <tr>\n",
        "      <th>121_at</th>\n",
        "      <td> 7.833862</td>\n",
        "      <td> 7.780682</td>\n",
        "      <td> 7.458197</td>\n",
        "      <td> 7.655948</td>\n",
        "      <td> 7.546555</td>\n",
        "      <td> 7.072670</td>\n",
        "      <td> 7.092984</td>\n",
        "      <td> 6.954225</td>\n",
        "      <td> 7.489785</td>\n",
        "      <td> 7.388539</td>\n",
        "      <td>...</td>\n",
        "      <td> 7.769734</td>\n",
        "      <td> 7.815864</td>\n",
        "      <td> 7.683279</td>\n",
        "      <td> 7.883231</td>\n",
        "      <td> 7.913621</td>\n",
        "      <td> 7.834196</td>\n",
        "      <td> 7.331864</td>\n",
        "      <td> 7.357102</td>\n",
        "      <td> 7.607461</td>\n",
        "      <td> 7.456453</td>\n",
        "    </tr>\n",
        "    <tr>\n",
        "      <th>1255_g_at</th>\n",
        "      <td> 3.152269</td>\n",
        "      <td> 3.111747</td>\n",
        "      <td> 3.018932</td>\n",
        "      <td> 3.154545</td>\n",
        "      <td> 3.107954</td>\n",
        "      <td> 3.224284</td>\n",
        "      <td> 3.114241</td>\n",
        "      <td> 3.044975</td>\n",
        "      <td> 3.304038</td>\n",
        "      <td> 2.887919</td>\n",
        "      <td>...</td>\n",
        "      <td> 3.257484</td>\n",
        "      <td> 3.339234</td>\n",
        "      <td> 3.298384</td>\n",
        "      <td> 3.150654</td>\n",
        "      <td> 3.344501</td>\n",
        "      <td> 3.230285</td>\n",
        "      <td> 3.175846</td>\n",
        "      <td> 3.105092</td>\n",
        "      <td> 3.225123</td>\n",
        "      <td> 3.090149</td>\n",
        "    </tr>\n",
        "  </tbody>\n",
        "</table>\n",
        "<p>5 rows \u00d7 208 columns</p>\n",
        "</div>"
       ],
       "metadata": {},
       "output_type": "pyout",
       "prompt_number": 77,
       "text": [
        "           GSM25349.CEL.gz  GSM25350.CEL.gz  GSM25356.CEL.gz  GSM25357.CEL.gz  \\\n",
        "Gene Name                                                                       \n",
        "1007_s_at         6.627014         6.249807         5.934128         6.145268   \n",
        "1053_at           6.939184         6.818038         7.047962         7.422477   \n",
        "117_at            5.113570         5.074096         5.371201         5.266550   \n",
        "121_at            7.833862         7.780682         7.458197         7.655948   \n",
        "1255_g_at         3.152269         3.111747         3.018932         3.154545   \n",
        "\n",
        "           GSM25358.CEL.gz  GSM25359.CEL.gz  GSM25360.CEL.gz  GSM25361.CEL.gz  \\\n",
        "Gene Name                                                                       \n",
        "1007_s_at         6.091270         6.041186         6.050375         6.063847   \n",
        "1053_at           7.272361         7.128216         6.750719         6.836287   \n",
        "117_at            5.342047         5.063876         5.315898         5.483652   \n",
        "121_at            7.546555         7.072670         7.092984         6.954225   \n",
        "1255_g_at         3.107954         3.224284         3.114241         3.044975   \n",
        "\n",
        "           GSM25377.CEL.gz  GSM25378.CEL.gz       ...         \\\n",
        "Gene Name                                         ...          \n",
        "1007_s_at         6.226106         6.358282       ...          \n",
        "1053_at           6.738022         7.367895       ...          \n",
        "117_at            6.689444         6.482782       ...          \n",
        "121_at            7.489785         7.388539       ...          \n",
        "1255_g_at         3.304038         2.887919       ...          \n",
        "\n",
        "           GSM136719.CEL.gz  GSM136720.CEL.gz  GSM136721.CEL.gz  \\\n",
        "Gene Name                                                         \n",
        "1007_s_at          6.466445          6.533592          6.631492   \n",
        "1053_at            7.032885          7.156344          7.018025   \n",
        "117_at             5.661112          5.127260          5.151840   \n",
        "121_at             7.769734          7.815864          7.683279   \n",
        "1255_g_at          3.257484          3.339234          3.298384   \n",
        "\n",
        "           GSM136722.CEL.gz  GSM136723.CEL.gz  GSM136724.CEL.gz  \\\n",
        "Gene Name                                                         \n",
        "1007_s_at          6.513362          6.440706          6.704324   \n",
        "1053_at            6.973322          6.884738          7.120898   \n",
        "117_at             5.505602          5.687689          4.942651   \n",
        "121_at             7.883231          7.913621          7.834196   \n",
        "1255_g_at          3.150654          3.344501          3.230285   \n",
        "\n",
        "           GSM136725.CEL.gz  GSM136726.CEL.gz  GSM136727.CEL.gz  \\\n",
        "Gene Name                                                         \n",
        "1007_s_at          6.488579          6.809481          6.133068   \n",
        "1053_at            7.517410          7.200596          7.280781   \n",
        "117_at             5.247190          5.237239          5.401876   \n",
        "121_at             7.331864          7.357102          7.607461   \n",
        "1255_g_at          3.175846          3.105092          3.225123   \n",
        "\n",
        "           GSM136729.CEL.gz  \n",
        "Gene Name                    \n",
        "1007_s_at          6.155473  \n",
        "1053_at            7.111583  \n",
        "117_at             5.302628  \n",
        "121_at             7.456453  \n",
        "1255_g_at          3.090149  \n",
        "\n",
        "[5 rows x 208 columns]"
       ]
      }
     ],
     "prompt_number": 77
    },
    {
     "cell_type": "markdown",
     "metadata": {},
     "source": [
      "#### Problem 1(b)\n",
      "\n",
      "Extract the year and month as integers from the `sampleinfo` table. \n",
      "\n",
      "**Hint**: To convert a Series or a column of a pandas DataFrame that contains a date-like object, you can use the `to_datetime` function [[read here](http://pandas.pydata.org/pandas-docs/stable/timeseries.html)].  This will create a `DatetimeIndex` which can be used to extract the month and year for each row in the DataFrame. "
     ]
    },
    {
     "cell_type": "code",
     "collapsed": false,
     "input": [
      "# imports to_datetime from pandas; is really necessary\n",
      "from pandas import to_datetime\n",
      "\n",
      "# converts sampleinfo.date into date series; doesn't seem to be necessary\n",
      "sampledates = to_datetime(sampleinfo.date)\n",
      "\n",
      "# Puts dates into a format which is extractable\n",
      "dates = pd.DatetimeIndex(sampledates)\n",
      "\n",
      "# extracts first ten elements of month as a list\n",
      "print dates.month[:10]\n",
      "\n",
      "# extracts first ten elements of year as a list\n",
      "print dates.year[:10]"
     ],
     "language": "python",
     "metadata": {},
     "outputs": [
      {
       "output_type": "stream",
       "stream": "stdout",
       "text": [
        "[ 2  2 12  1  1  1  1  2 12 12]\n",
        "[2003 2003 2002 2003 2003 2003 2003 2003 2002 2002]\n"
       ]
      }
     ],
     "prompt_number": 80
    },
    {
     "cell_type": "markdown",
     "metadata": {},
     "source": [
      "#### Problem 1(c)\n",
      "\n",
      "Convert the dates in the `date` column from the `sampleinfo` table into days since October 31, 2002. Add a column to the `sampleinfo` DataFrame titled `elapsedInDays` containing the days since October 31, 2002.  Show the head of the `sampleinfo` DataFrame which includes the new column.  \n",
      "\n",
      "**Hint**: Use the `datetime` module to create a new `datetime` object for the specific date October 31, 2002. Then, subtract the October 31, 2002 date from each date from the `date` column in the `sampleinfo` DataFrame. "
     ]
    },
    {
     "cell_type": "code",
     "collapsed": false,
     "input": [
      "# imports necessary datetime module\n",
      "from pandas import datetime\n",
      "\n",
      "# lets us use dates as numbers\n",
      "from numpy import timedelta64\n",
      "\n",
      "# creates new column titled 'enlapsedinDays'; \n",
      "# sets values to time elapsed since October 31, 2002\n",
      "sampleinfo['elapsedinDays'] = (sampledates - datetime(2002,10,31) ).astype('timedelta64[D]')\n",
      "sampleinfo.head()"
     ],
     "language": "python",
     "metadata": {},
     "outputs": [
      {
       "html": [
        "<div style=\"max-height:1000px;max-width:1500px;overflow:auto;\">\n",
        "<table border=\"1\" class=\"dataframe\">\n",
        "  <thead>\n",
        "    <tr style=\"text-align: right;\">\n",
        "      <th></th>\n",
        "      <th>ethnicity</th>\n",
        "      <th>date</th>\n",
        "      <th>filename</th>\n",
        "      <th>sex</th>\n",
        "      <th>elapsedinDays</th>\n",
        "    </tr>\n",
        "  </thead>\n",
        "  <tbody>\n",
        "    <tr>\n",
        "      <th>0</th>\n",
        "      <td> CEU</td>\n",
        "      <td> 2003-02-04</td>\n",
        "      <td> GSM25349.CEL.gz</td>\n",
        "      <td> M</td>\n",
        "      <td> 96</td>\n",
        "    </tr>\n",
        "    <tr>\n",
        "      <th>1</th>\n",
        "      <td> CEU</td>\n",
        "      <td> 2003-02-04</td>\n",
        "      <td> GSM25350.CEL.gz</td>\n",
        "      <td> M</td>\n",
        "      <td> 96</td>\n",
        "    </tr>\n",
        "    <tr>\n",
        "      <th>2</th>\n",
        "      <td> CEU</td>\n",
        "      <td> 2002-12-17</td>\n",
        "      <td> GSM25356.CEL.gz</td>\n",
        "      <td> M</td>\n",
        "      <td> 47</td>\n",
        "    </tr>\n",
        "    <tr>\n",
        "      <th>3</th>\n",
        "      <td> CEU</td>\n",
        "      <td> 2003-01-30</td>\n",
        "      <td> GSM25357.CEL.gz</td>\n",
        "      <td> M</td>\n",
        "      <td> 91</td>\n",
        "    </tr>\n",
        "    <tr>\n",
        "      <th>4</th>\n",
        "      <td> CEU</td>\n",
        "      <td> 2003-01-03</td>\n",
        "      <td> GSM25358.CEL.gz</td>\n",
        "      <td> M</td>\n",
        "      <td> 64</td>\n",
        "    </tr>\n",
        "  </tbody>\n",
        "</table>\n",
        "</div>"
       ],
       "metadata": {},
       "output_type": "pyout",
       "prompt_number": 111,
       "text": [
        "  ethnicity        date         filename sex  elapsedinDays\n",
        "0       CEU  2003-02-04  GSM25349.CEL.gz   M             96\n",
        "1       CEU  2003-02-04  GSM25350.CEL.gz   M             96\n",
        "2       CEU  2002-12-17  GSM25356.CEL.gz   M             47\n",
        "3       CEU  2003-01-30  GSM25357.CEL.gz   M             91\n",
        "4       CEU  2003-01-03  GSM25358.CEL.gz   M             64"
       ]
      }
     ],
     "prompt_number": 111
    },
    {
     "cell_type": "markdown",
     "metadata": {},
     "source": [
      "#### Problem 1(d)\n",
      "\n",
      "Use exploratory analysis and the singular value decomposition (SVD) of the gene expression data matrix to determine if the date the samples were processed has large effect on the variability seen in the data or if it is just ethnicity (which is confounded with date). \n",
      "\n",
      "**Hint**: See the end of the [lecture from 9/23/2014 for help with SVD](http://nbviewer.ipython.org/github/cs109/2014/blob/master/lectures/lecture07/data_scraping_transcript.ipynb). \n",
      "\n",
      "First subset the the `sampleinfo` DataFrame to include only the CEU ethnicity.  Call this new subsetted DataFrame `sampleinfoCEU`.  Show the head of `sampleinfoCEU` DataFrame. "
     ]
    },
    {
     "cell_type": "code",
     "collapsed": false,
     "input": [
      "# sampleinfo for CEU ethnicitiy\n",
      "sampleinfoCEU = sampleinfo.set_index('ethnicity').ix['CEU'];\n",
      "sampleinfoCEU.head()"
     ],
     "language": "python",
     "metadata": {},
     "outputs": [
      {
       "html": [
        "<div style=\"max-height:1000px;max-width:1500px;overflow:auto;\">\n",
        "<table border=\"1\" class=\"dataframe\">\n",
        "  <thead>\n",
        "    <tr style=\"text-align: right;\">\n",
        "      <th></th>\n",
        "      <th>date</th>\n",
        "      <th>filename</th>\n",
        "      <th>sex</th>\n",
        "      <th>elapsedinDays</th>\n",
        "    </tr>\n",
        "    <tr>\n",
        "      <th>ethnicity</th>\n",
        "      <th></th>\n",
        "      <th></th>\n",
        "      <th></th>\n",
        "      <th></th>\n",
        "    </tr>\n",
        "  </thead>\n",
        "  <tbody>\n",
        "    <tr>\n",
        "      <th>CEU</th>\n",
        "      <td> 2003-02-04</td>\n",
        "      <td> GSM25349.CEL.gz</td>\n",
        "      <td> M</td>\n",
        "      <td> 96</td>\n",
        "    </tr>\n",
        "    <tr>\n",
        "      <th>CEU</th>\n",
        "      <td> 2003-02-04</td>\n",
        "      <td> GSM25350.CEL.gz</td>\n",
        "      <td> M</td>\n",
        "      <td> 96</td>\n",
        "    </tr>\n",
        "    <tr>\n",
        "      <th>CEU</th>\n",
        "      <td> 2002-12-17</td>\n",
        "      <td> GSM25356.CEL.gz</td>\n",
        "      <td> M</td>\n",
        "      <td> 47</td>\n",
        "    </tr>\n",
        "    <tr>\n",
        "      <th>CEU</th>\n",
        "      <td> 2003-01-30</td>\n",
        "      <td> GSM25357.CEL.gz</td>\n",
        "      <td> M</td>\n",
        "      <td> 91</td>\n",
        "    </tr>\n",
        "    <tr>\n",
        "      <th>CEU</th>\n",
        "      <td> 2003-01-03</td>\n",
        "      <td> GSM25358.CEL.gz</td>\n",
        "      <td> M</td>\n",
        "      <td> 64</td>\n",
        "    </tr>\n",
        "  </tbody>\n",
        "</table>\n",
        "</div>"
       ],
       "metadata": {},
       "output_type": "pyout",
       "prompt_number": 112,
       "text": [
        "                 date         filename sex  elapsedinDays\n",
        "ethnicity                                                \n",
        "CEU        2003-02-04  GSM25349.CEL.gz   M             96\n",
        "CEU        2003-02-04  GSM25350.CEL.gz   M             96\n",
        "CEU        2002-12-17  GSM25356.CEL.gz   M             47\n",
        "CEU        2003-01-30  GSM25357.CEL.gz   M             91\n",
        "CEU        2003-01-03  GSM25358.CEL.gz   M             64"
       ]
      }
     ],
     "prompt_number": 112
    },
    {
     "cell_type": "markdown",
     "metadata": {},
     "source": [
      "Next, subset the `exprs` DataFrame to only include the samples with the CEU ethnicity. Name this new subsetted DataFrame `exprsCEU`. Show the head of the `exprsCEU` DataFrame. "
     ]
    },
    {
     "cell_type": "code",
     "collapsed": false,
     "input": [
      "# list of file names for CEU data\n",
      "CEU_filename = sampleinfoCEU.filename\n",
      "\n",
      "# selects the elements in expression data\n",
      "# corresponding to file name\n",
      "exprsCEU = exprs_new[CEU_filename]\n",
      "\n",
      "exprsCEU.head()"
     ],
     "language": "python",
     "metadata": {},
     "outputs": [
      {
       "html": [
        "<div style=\"max-height:1000px;max-width:1500px;overflow:auto;\">\n",
        "<table border=\"1\" class=\"dataframe\">\n",
        "  <thead>\n",
        "    <tr style=\"text-align: right;\">\n",
        "      <th></th>\n",
        "      <th>GSM25349.CEL.gz</th>\n",
        "      <th>GSM25350.CEL.gz</th>\n",
        "      <th>GSM25356.CEL.gz</th>\n",
        "      <th>GSM25357.CEL.gz</th>\n",
        "      <th>GSM25358.CEL.gz</th>\n",
        "      <th>GSM25359.CEL.gz</th>\n",
        "      <th>GSM25360.CEL.gz</th>\n",
        "      <th>GSM25361.CEL.gz</th>\n",
        "      <th>GSM25377.CEL.gz</th>\n",
        "      <th>GSM25378.CEL.gz</th>\n",
        "      <th>...</th>\n",
        "      <th>GSM48658.CEL.gz</th>\n",
        "      <th>GSM48660.CEL.gz</th>\n",
        "      <th>GSM48661.CEL.gz</th>\n",
        "      <th>GSM48662.CEL.gz</th>\n",
        "      <th>GSM48663.CEL.gz</th>\n",
        "      <th>GSM48664.CEL.gz</th>\n",
        "      <th>GSM48665.CEL.gz</th>\n",
        "      <th>GSM136725.CEL.gz</th>\n",
        "      <th>GSM136726.CEL.gz</th>\n",
        "      <th>GSM136727.CEL.gz</th>\n",
        "    </tr>\n",
        "    <tr>\n",
        "      <th>Gene Name</th>\n",
        "      <th></th>\n",
        "      <th></th>\n",
        "      <th></th>\n",
        "      <th></th>\n",
        "      <th></th>\n",
        "      <th></th>\n",
        "      <th></th>\n",
        "      <th></th>\n",
        "      <th></th>\n",
        "      <th></th>\n",
        "      <th></th>\n",
        "      <th></th>\n",
        "      <th></th>\n",
        "      <th></th>\n",
        "      <th></th>\n",
        "      <th></th>\n",
        "      <th></th>\n",
        "      <th></th>\n",
        "      <th></th>\n",
        "      <th></th>\n",
        "      <th></th>\n",
        "    </tr>\n",
        "  </thead>\n",
        "  <tbody>\n",
        "    <tr>\n",
        "      <th>1007_s_at</th>\n",
        "      <td> 6.627014</td>\n",
        "      <td> 6.249807</td>\n",
        "      <td> 5.934128</td>\n",
        "      <td> 6.145268</td>\n",
        "      <td> 6.091270</td>\n",
        "      <td> 6.041186</td>\n",
        "      <td> 6.050375</td>\n",
        "      <td> 6.063847</td>\n",
        "      <td> 6.226106</td>\n",
        "      <td> 6.358282</td>\n",
        "      <td>...</td>\n",
        "      <td> 6.501510</td>\n",
        "      <td> 6.558100</td>\n",
        "      <td> 6.618286</td>\n",
        "      <td> 6.869995</td>\n",
        "      <td> 5.981000</td>\n",
        "      <td> 6.403285</td>\n",
        "      <td> 6.248702</td>\n",
        "      <td> 6.488579</td>\n",
        "      <td> 6.809481</td>\n",
        "      <td> 6.133068</td>\n",
        "    </tr>\n",
        "    <tr>\n",
        "      <th>1053_at</th>\n",
        "      <td> 6.939184</td>\n",
        "      <td> 6.818038</td>\n",
        "      <td> 7.047962</td>\n",
        "      <td> 7.422477</td>\n",
        "      <td> 7.272361</td>\n",
        "      <td> 7.128216</td>\n",
        "      <td> 6.750719</td>\n",
        "      <td> 6.836287</td>\n",
        "      <td> 6.738022</td>\n",
        "      <td> 7.367895</td>\n",
        "      <td>...</td>\n",
        "      <td> 7.066686</td>\n",
        "      <td> 7.386702</td>\n",
        "      <td> 6.407958</td>\n",
        "      <td> 7.089180</td>\n",
        "      <td> 7.120923</td>\n",
        "      <td> 7.018998</td>\n",
        "      <td> 7.155419</td>\n",
        "      <td> 7.517410</td>\n",
        "      <td> 7.200596</td>\n",
        "      <td> 7.280781</td>\n",
        "    </tr>\n",
        "    <tr>\n",
        "      <th>117_at</th>\n",
        "      <td> 5.113570</td>\n",
        "      <td> 5.074096</td>\n",
        "      <td> 5.371201</td>\n",
        "      <td> 5.266550</td>\n",
        "      <td> 5.342047</td>\n",
        "      <td> 5.063876</td>\n",
        "      <td> 5.315898</td>\n",
        "      <td> 5.483652</td>\n",
        "      <td> 6.689444</td>\n",
        "      <td> 6.482782</td>\n",
        "      <td>...</td>\n",
        "      <td> 5.600514</td>\n",
        "      <td> 5.232676</td>\n",
        "      <td> 5.630720</td>\n",
        "      <td> 4.944748</td>\n",
        "      <td> 5.275577</td>\n",
        "      <td> 5.770358</td>\n",
        "      <td> 5.616842</td>\n",
        "      <td> 5.247190</td>\n",
        "      <td> 5.237239</td>\n",
        "      <td> 5.401876</td>\n",
        "    </tr>\n",
        "    <tr>\n",
        "      <th>121_at</th>\n",
        "      <td> 7.833862</td>\n",
        "      <td> 7.780682</td>\n",
        "      <td> 7.458197</td>\n",
        "      <td> 7.655948</td>\n",
        "      <td> 7.546555</td>\n",
        "      <td> 7.072670</td>\n",
        "      <td> 7.092984</td>\n",
        "      <td> 6.954225</td>\n",
        "      <td> 7.489785</td>\n",
        "      <td> 7.388539</td>\n",
        "      <td>...</td>\n",
        "      <td> 7.437535</td>\n",
        "      <td> 7.714650</td>\n",
        "      <td> 7.416252</td>\n",
        "      <td> 7.746448</td>\n",
        "      <td> 8.001434</td>\n",
        "      <td> 7.626723</td>\n",
        "      <td> 7.452299</td>\n",
        "      <td> 7.331864</td>\n",
        "      <td> 7.357102</td>\n",
        "      <td> 7.607461</td>\n",
        "    </tr>\n",
        "    <tr>\n",
        "      <th>1255_g_at</th>\n",
        "      <td> 3.152269</td>\n",
        "      <td> 3.111747</td>\n",
        "      <td> 3.018932</td>\n",
        "      <td> 3.154545</td>\n",
        "      <td> 3.107954</td>\n",
        "      <td> 3.224284</td>\n",
        "      <td> 3.114241</td>\n",
        "      <td> 3.044975</td>\n",
        "      <td> 3.304038</td>\n",
        "      <td> 2.887919</td>\n",
        "      <td>...</td>\n",
        "      <td> 3.009983</td>\n",
        "      <td> 3.151203</td>\n",
        "      <td> 3.199709</td>\n",
        "      <td> 3.159496</td>\n",
        "      <td> 3.149710</td>\n",
        "      <td> 3.242780</td>\n",
        "      <td> 3.433125</td>\n",
        "      <td> 3.175846</td>\n",
        "      <td> 3.105092</td>\n",
        "      <td> 3.225123</td>\n",
        "    </tr>\n",
        "  </tbody>\n",
        "</table>\n",
        "<p>5 rows \u00d7 102 columns</p>\n",
        "</div>"
       ],
       "metadata": {},
       "output_type": "pyout",
       "prompt_number": 83,
       "text": [
        "           GSM25349.CEL.gz  GSM25350.CEL.gz  GSM25356.CEL.gz  GSM25357.CEL.gz  \\\n",
        "Gene Name                                                                       \n",
        "1007_s_at         6.627014         6.249807         5.934128         6.145268   \n",
        "1053_at           6.939184         6.818038         7.047962         7.422477   \n",
        "117_at            5.113570         5.074096         5.371201         5.266550   \n",
        "121_at            7.833862         7.780682         7.458197         7.655948   \n",
        "1255_g_at         3.152269         3.111747         3.018932         3.154545   \n",
        "\n",
        "           GSM25358.CEL.gz  GSM25359.CEL.gz  GSM25360.CEL.gz  GSM25361.CEL.gz  \\\n",
        "Gene Name                                                                       \n",
        "1007_s_at         6.091270         6.041186         6.050375         6.063847   \n",
        "1053_at           7.272361         7.128216         6.750719         6.836287   \n",
        "117_at            5.342047         5.063876         5.315898         5.483652   \n",
        "121_at            7.546555         7.072670         7.092984         6.954225   \n",
        "1255_g_at         3.107954         3.224284         3.114241         3.044975   \n",
        "\n",
        "           GSM25377.CEL.gz  GSM25378.CEL.gz       ...         GSM48658.CEL.gz  \\\n",
        "Gene Name                                         ...                           \n",
        "1007_s_at         6.226106         6.358282       ...                6.501510   \n",
        "1053_at           6.738022         7.367895       ...                7.066686   \n",
        "117_at            6.689444         6.482782       ...                5.600514   \n",
        "121_at            7.489785         7.388539       ...                7.437535   \n",
        "1255_g_at         3.304038         2.887919       ...                3.009983   \n",
        "\n",
        "           GSM48660.CEL.gz  GSM48661.CEL.gz  GSM48662.CEL.gz  GSM48663.CEL.gz  \\\n",
        "Gene Name                                                                       \n",
        "1007_s_at         6.558100         6.618286         6.869995         5.981000   \n",
        "1053_at           7.386702         6.407958         7.089180         7.120923   \n",
        "117_at            5.232676         5.630720         4.944748         5.275577   \n",
        "121_at            7.714650         7.416252         7.746448         8.001434   \n",
        "1255_g_at         3.151203         3.199709         3.159496         3.149710   \n",
        "\n",
        "           GSM48664.CEL.gz  GSM48665.CEL.gz  GSM136725.CEL.gz  \\\n",
        "Gene Name                                                       \n",
        "1007_s_at         6.403285         6.248702          6.488579   \n",
        "1053_at           7.018998         7.155419          7.517410   \n",
        "117_at            5.770358         5.616842          5.247190   \n",
        "121_at            7.626723         7.452299          7.331864   \n",
        "1255_g_at         3.242780         3.433125          3.175846   \n",
        "\n",
        "           GSM136726.CEL.gz  GSM136727.CEL.gz  \n",
        "Gene Name                                      \n",
        "1007_s_at          6.809481          6.133068  \n",
        "1053_at            7.200596          7.280781  \n",
        "117_at             5.237239          5.401876  \n",
        "121_at             7.357102          7.607461  \n",
        "1255_g_at          3.105092          3.225123  \n",
        "\n",
        "[5 rows x 102 columns]"
       ]
      }
     ],
     "prompt_number": 83
    },
    {
     "cell_type": "markdown",
     "metadata": {},
     "source": [
      "Check to make sure the order of the columns in the `exprsCEU` DataFrame matches the rows in the `sampleinfoCEU` DataFrame.  "
     ]
    },
    {
     "cell_type": "code",
     "collapsed": false,
     "input": [
      "# ensures columns of exprsCEU and sampleinfoCEU\n",
      "# line up correctly \n",
      "(exprsCEU.columns == sampleinfoCEU.filename).all()"
     ],
     "language": "python",
     "metadata": {},
     "outputs": [
      {
       "metadata": {},
       "output_type": "pyout",
       "prompt_number": 113,
       "text": [
        "True"
       ]
      }
     ],
     "prompt_number": 113
    },
    {
     "cell_type": "markdown",
     "metadata": {},
     "source": [
      "Compute the average gene expression intensity in the `exprsCEU` DataFrame across all the samples. For each sample in the `exprsCEU` DataFrame, subtract the average gene expression intensity from each of the samples. Show the head of the mean normalized gene expression data.  "
     ]
    },
    {
     "cell_type": "code",
     "collapsed": false,
     "input": [
      "#your code here\n",
      "\n",
      "# creates deep copy of exprsCEU; doesn't change exprsCEU\n",
      "mean_exprCEU = exprsCEU.copy(True)\n",
      "\n",
      "# creates new column\n",
      "mean_exprCEU['mean expression'] = float(1.0)\n",
      "\n",
      "# adds the mean expression to this final column\n",
      "for j in range(len(mean_exprCEU)):\n",
      "    mean_exprCEU['mean expression'][j] = exprsCEU.ix[j].mean()\n",
      "    \n",
      "# creates deep copy of mean_exprsCEU; doesn't change mean_exprsCEU\n",
      "meannorm_exprsCEU = exprsCEU.copy(True)\n",
      "\n",
      "# normalizes each value according to the mean expression\n",
      "for j in range(len(exprsCEU)):\n",
      "    meannorm_exprsCEU.ix[j] = mean_exprCEU.ix[j]-mean_exprCEU['mean expression'][j]\n",
      "\n",
      "# head of mean normalized data\n",
      "meannorm_exprsCEU.head()"
     ],
     "language": "python",
     "metadata": {},
     "outputs": [
      {
       "html": [
        "<div style=\"max-height:1000px;max-width:1500px;overflow:auto;\">\n",
        "<table border=\"1\" class=\"dataframe\">\n",
        "  <thead>\n",
        "    <tr style=\"text-align: right;\">\n",
        "      <th></th>\n",
        "      <th>GSM25349.CEL.gz</th>\n",
        "      <th>GSM25350.CEL.gz</th>\n",
        "      <th>GSM25356.CEL.gz</th>\n",
        "      <th>GSM25357.CEL.gz</th>\n",
        "      <th>GSM25358.CEL.gz</th>\n",
        "      <th>GSM25359.CEL.gz</th>\n",
        "      <th>GSM25360.CEL.gz</th>\n",
        "      <th>GSM25361.CEL.gz</th>\n",
        "      <th>GSM25377.CEL.gz</th>\n",
        "      <th>GSM25378.CEL.gz</th>\n",
        "      <th>...</th>\n",
        "      <th>GSM48658.CEL.gz</th>\n",
        "      <th>GSM48660.CEL.gz</th>\n",
        "      <th>GSM48661.CEL.gz</th>\n",
        "      <th>GSM48662.CEL.gz</th>\n",
        "      <th>GSM48663.CEL.gz</th>\n",
        "      <th>GSM48664.CEL.gz</th>\n",
        "      <th>GSM48665.CEL.gz</th>\n",
        "      <th>GSM136725.CEL.gz</th>\n",
        "      <th>GSM136726.CEL.gz</th>\n",
        "      <th>GSM136727.CEL.gz</th>\n",
        "    </tr>\n",
        "    <tr>\n",
        "      <th>Gene Name</th>\n",
        "      <th></th>\n",
        "      <th></th>\n",
        "      <th></th>\n",
        "      <th></th>\n",
        "      <th></th>\n",
        "      <th></th>\n",
        "      <th></th>\n",
        "      <th></th>\n",
        "      <th></th>\n",
        "      <th></th>\n",
        "      <th></th>\n",
        "      <th></th>\n",
        "      <th></th>\n",
        "      <th></th>\n",
        "      <th></th>\n",
        "      <th></th>\n",
        "      <th></th>\n",
        "      <th></th>\n",
        "      <th></th>\n",
        "      <th></th>\n",
        "      <th></th>\n",
        "    </tr>\n",
        "  </thead>\n",
        "  <tbody>\n",
        "    <tr>\n",
        "      <th>1007_s_at</th>\n",
        "      <td> 0.365059</td>\n",
        "      <td>-0.012149</td>\n",
        "      <td>-0.327827</td>\n",
        "      <td>-0.116687</td>\n",
        "      <td>-0.170685</td>\n",
        "      <td>-0.220769</td>\n",
        "      <td>-0.211580</td>\n",
        "      <td>-0.198109</td>\n",
        "      <td>-0.035849</td>\n",
        "      <td> 0.096327</td>\n",
        "      <td>...</td>\n",
        "      <td> 0.239554</td>\n",
        "      <td> 0.296144</td>\n",
        "      <td> 0.356331</td>\n",
        "      <td> 0.608040</td>\n",
        "      <td>-0.280956</td>\n",
        "      <td> 0.141330</td>\n",
        "      <td>-0.013254</td>\n",
        "      <td> 0.226624</td>\n",
        "      <td> 0.547526</td>\n",
        "      <td>-0.128887</td>\n",
        "    </tr>\n",
        "    <tr>\n",
        "      <th>1053_at</th>\n",
        "      <td>-0.136032</td>\n",
        "      <td>-0.257178</td>\n",
        "      <td>-0.027254</td>\n",
        "      <td> 0.347260</td>\n",
        "      <td> 0.197144</td>\n",
        "      <td> 0.053000</td>\n",
        "      <td>-0.324497</td>\n",
        "      <td>-0.238930</td>\n",
        "      <td>-0.337195</td>\n",
        "      <td> 0.292678</td>\n",
        "      <td>...</td>\n",
        "      <td>-0.008531</td>\n",
        "      <td> 0.311485</td>\n",
        "      <td>-0.667259</td>\n",
        "      <td> 0.013964</td>\n",
        "      <td> 0.045706</td>\n",
        "      <td>-0.056219</td>\n",
        "      <td> 0.080203</td>\n",
        "      <td> 0.442193</td>\n",
        "      <td> 0.125379</td>\n",
        "      <td> 0.205564</td>\n",
        "    </tr>\n",
        "    <tr>\n",
        "      <th>117_at</th>\n",
        "      <td>-0.490556</td>\n",
        "      <td>-0.530031</td>\n",
        "      <td>-0.232926</td>\n",
        "      <td>-0.337577</td>\n",
        "      <td>-0.262080</td>\n",
        "      <td>-0.540250</td>\n",
        "      <td>-0.288228</td>\n",
        "      <td>-0.120475</td>\n",
        "      <td> 1.085317</td>\n",
        "      <td> 0.878655</td>\n",
        "      <td>...</td>\n",
        "      <td>-0.003613</td>\n",
        "      <td>-0.371451</td>\n",
        "      <td> 0.026594</td>\n",
        "      <td>-0.659379</td>\n",
        "      <td>-0.328549</td>\n",
        "      <td> 0.166231</td>\n",
        "      <td> 0.012716</td>\n",
        "      <td>-0.356936</td>\n",
        "      <td>-0.366887</td>\n",
        "      <td>-0.202251</td>\n",
        "    </tr>\n",
        "    <tr>\n",
        "      <th>121_at</th>\n",
        "      <td> 0.418026</td>\n",
        "      <td> 0.364847</td>\n",
        "      <td> 0.042362</td>\n",
        "      <td> 0.240113</td>\n",
        "      <td> 0.130720</td>\n",
        "      <td>-0.343165</td>\n",
        "      <td>-0.322852</td>\n",
        "      <td>-0.461611</td>\n",
        "      <td> 0.073949</td>\n",
        "      <td>-0.027296</td>\n",
        "      <td>...</td>\n",
        "      <td> 0.021700</td>\n",
        "      <td> 0.298814</td>\n",
        "      <td> 0.000417</td>\n",
        "      <td> 0.330612</td>\n",
        "      <td> 0.585598</td>\n",
        "      <td> 0.210887</td>\n",
        "      <td> 0.036463</td>\n",
        "      <td>-0.083972</td>\n",
        "      <td>-0.058733</td>\n",
        "      <td> 0.191626</td>\n",
        "    </tr>\n",
        "    <tr>\n",
        "      <th>1255_g_at</th>\n",
        "      <td> 0.018335</td>\n",
        "      <td>-0.022187</td>\n",
        "      <td>-0.115002</td>\n",
        "      <td> 0.020611</td>\n",
        "      <td>-0.025980</td>\n",
        "      <td> 0.090351</td>\n",
        "      <td>-0.019693</td>\n",
        "      <td>-0.088959</td>\n",
        "      <td> 0.170104</td>\n",
        "      <td>-0.246015</td>\n",
        "      <td>...</td>\n",
        "      <td>-0.123951</td>\n",
        "      <td> 0.017269</td>\n",
        "      <td> 0.065775</td>\n",
        "      <td> 0.025562</td>\n",
        "      <td> 0.015776</td>\n",
        "      <td> 0.108846</td>\n",
        "      <td> 0.299192</td>\n",
        "      <td> 0.041912</td>\n",
        "      <td>-0.028842</td>\n",
        "      <td> 0.091189</td>\n",
        "    </tr>\n",
        "  </tbody>\n",
        "</table>\n",
        "<p>5 rows \u00d7 102 columns</p>\n",
        "</div>"
       ],
       "metadata": {},
       "output_type": "pyout",
       "prompt_number": 90,
       "text": [
        "           GSM25349.CEL.gz  GSM25350.CEL.gz  GSM25356.CEL.gz  GSM25357.CEL.gz  \\\n",
        "Gene Name                                                                       \n",
        "1007_s_at         0.365059        -0.012149        -0.327827        -0.116687   \n",
        "1053_at          -0.136032        -0.257178        -0.027254         0.347260   \n",
        "117_at           -0.490556        -0.530031        -0.232926        -0.337577   \n",
        "121_at            0.418026         0.364847         0.042362         0.240113   \n",
        "1255_g_at         0.018335        -0.022187        -0.115002         0.020611   \n",
        "\n",
        "           GSM25358.CEL.gz  GSM25359.CEL.gz  GSM25360.CEL.gz  GSM25361.CEL.gz  \\\n",
        "Gene Name                                                                       \n",
        "1007_s_at        -0.170685        -0.220769        -0.211580        -0.198109   \n",
        "1053_at           0.197144         0.053000        -0.324497        -0.238930   \n",
        "117_at           -0.262080        -0.540250        -0.288228        -0.120475   \n",
        "121_at            0.130720        -0.343165        -0.322852        -0.461611   \n",
        "1255_g_at        -0.025980         0.090351        -0.019693        -0.088959   \n",
        "\n",
        "           GSM25377.CEL.gz  GSM25378.CEL.gz       ...         GSM48658.CEL.gz  \\\n",
        "Gene Name                                         ...                           \n",
        "1007_s_at        -0.035849         0.096327       ...                0.239554   \n",
        "1053_at          -0.337195         0.292678       ...               -0.008531   \n",
        "117_at            1.085317         0.878655       ...               -0.003613   \n",
        "121_at            0.073949        -0.027296       ...                0.021700   \n",
        "1255_g_at         0.170104        -0.246015       ...               -0.123951   \n",
        "\n",
        "           GSM48660.CEL.gz  GSM48661.CEL.gz  GSM48662.CEL.gz  GSM48663.CEL.gz  \\\n",
        "Gene Name                                                                       \n",
        "1007_s_at         0.296144         0.356331         0.608040        -0.280956   \n",
        "1053_at           0.311485        -0.667259         0.013964         0.045706   \n",
        "117_at           -0.371451         0.026594        -0.659379        -0.328549   \n",
        "121_at            0.298814         0.000417         0.330612         0.585598   \n",
        "1255_g_at         0.017269         0.065775         0.025562         0.015776   \n",
        "\n",
        "           GSM48664.CEL.gz  GSM48665.CEL.gz  GSM136725.CEL.gz  \\\n",
        "Gene Name                                                       \n",
        "1007_s_at         0.141330        -0.013254          0.226624   \n",
        "1053_at          -0.056219         0.080203          0.442193   \n",
        "117_at            0.166231         0.012716         -0.356936   \n",
        "121_at            0.210887         0.036463         -0.083972   \n",
        "1255_g_at         0.108846         0.299192          0.041912   \n",
        "\n",
        "           GSM136726.CEL.gz  GSM136727.CEL.gz  \n",
        "Gene Name                                      \n",
        "1007_s_at          0.547526         -0.128887  \n",
        "1053_at            0.125379          0.205564  \n",
        "117_at            -0.366887         -0.202251  \n",
        "121_at            -0.058733          0.191626  \n",
        "1255_g_at         -0.028842          0.091189  \n",
        "\n",
        "[5 rows x 102 columns]"
       ]
      }
     ],
     "prompt_number": 90
    },
    {
     "cell_type": "markdown",
     "metadata": {},
     "source": [
      "Using this mean normalized gene expression data, compute the projection to the first Principal Component (PC1).  \n",
      "\n",
      "**Hint**: Use the `numpy.linalg.svd()` function in the `numpy.linalg` module (or the `scipy.linalg.svd()` function in the `scipy.linalg` module) to apply an [singular value decomposition](http://en.wikipedia.org/wiki/Singular_value_decomposition) to a matrix.  "
     ]
    },
    {
     "cell_type": "code",
     "collapsed": false,
     "input": [
      "# singular value decomposition\n",
      "U, s, Vh = np.linalg.svd(meannorm_exprsCEU)\n",
      "\n",
      "# dfirst principal component is the first column in the matrix V\n",
      "V = Vh.T\n",
      "PC1 = V[:,0]"
     ],
     "language": "python",
     "metadata": {},
     "outputs": [],
     "prompt_number": 124
    },
    {
     "cell_type": "markdown",
     "metadata": {},
     "source": [
      "Create a histogram using the values from PC1.  Use a bin size of 25.  "
     ]
    },
    {
     "cell_type": "code",
     "collapsed": false,
     "input": [
      "# given the values of the gene expression data it doesn't make sense \n",
      "# to use a bin size of '25'. So we will just use 25 bins.\n",
      "\n",
      "plt.hist(PC1,bins = 25)\n",
      "plt.title(\"\")\n",
      "plt.xlabel(\"Mean normalized gene expression\")\n",
      "plt.ylabel(\"Frequency\")\n",
      "plt.show()"
     ],
     "language": "python",
     "metadata": {},
     "outputs": [
      {
       "metadata": {},
       "output_type": "display_data",
       "png": "[encoded data removed]",
       "text": [
        "<matplotlib.figure.Figure at 0x17d853c8>"
       ]
      }
     ],
     "prompt_number": 125
    },
    {
     "cell_type": "markdown",
     "metadata": {},
     "source": [
      "Create a scatter plot with the days since October 31, 2002 on the x-axis and PC1 on the y-axis."
     ]
    },
    {
     "cell_type": "code",
     "collapsed": false,
     "input": [
      "#your code here\n",
      "\n",
      "x = sampleinfoCEU['elapsedinDays'];\n",
      "y = PC1;\n",
      "\n",
      "fig = plt.figure()\n",
      "plt.scatter(x, y)\n",
      "plt.xlabel(\"Day\") # axis label\n",
      "plt.ylabel(\"Gene Expression for CEU\") # axis label\n",
      "plt.xlim = ([0,1000])\n",
      "plt.show()"
     ],
     "language": "python",
     "metadata": {},
     "outputs": [
      {
       "metadata": {},
       "output_type": "display_data",
       "png": "[encoded data removed]",
       "text": [
        "<matplotlib.figure.Figure at 0x16b562e8>"
       ]
      }
     ],
     "prompt_number": 127
    },
    {
     "cell_type": "markdown",
     "metadata": {},
     "source": [
      "Around what day do you notice a difference in the way the samples were processed?"
     ]
    },
    {
     "cell_type": "code",
     "collapsed": false,
     "input": [
      "#your code here"
     ],
     "language": "python",
     "metadata": {},
     "outputs": [],
     "prompt_number": 13
    },
    {
     "cell_type": "markdown",
     "metadata": {},
     "source": [
      "#### Answer:\n",
      "\n",
      "There is a large shift in gene expression around day 100. In the first 100 days, the data is clustered around zero mean gene expression (as we should expect), but afterwards the gene expression data is consistently below the mean and has a smaller variance. "
     ]
    },
    {
     "cell_type": "markdown",
     "metadata": {},
     "source": [
      "## Discussion for Problem 1\n",
      "\n",
      "*Write a brief discussion of your conclusions to the questions and tasks above in 100 words or less.*\n",
      "\n",
      "---\n",
      "\n",
      "#### Student Discussion: \n",
      "\n",
      "There does seem to be a change in the way the gene samples were processed contingent on the date they were processed. The samples which were processed after day 100 seem to consistently fall below the computed mean gene expression. "
     ]
    },
    {
     "cell_type": "markdown",
     "metadata": {},
     "source": [
      "## Problem 2: Is there a pollster bias in presidential election polls?"
     ]
    },
    {
     "cell_type": "markdown",
     "metadata": {},
     "source": [
      "#### Problem 2(a)\n",
      "\n",
      "The [HuffPost Pollster](http://elections.huffingtonpost.com/pollster) contains many political polls. You can access these polls from individual races as a CSV but you can also access polls through the [HuffPost Pollster API](http://elections.huffingtonpost.com/pollster/api) to access the data.  \n",
      "\n",
      "Read in the polls from the [2012 Presidential Election: Barack Obama vs Mitt Romney](http://elections.huffingtonpost.com/pollster/2012-general-election-romney-vs-obama) into a pandas DataFrame called `election`. For this problem, you may read in the polls for this race directly using [the CSV file](http://elections.huffingtonpost.com/pollster/2012-general-election-romney-vs-obama.csv) available from the HuffPost Pollster page."
     ]
    },
    {
     "cell_type": "code",
     "collapsed": false,
     "input": [
      "# reads in csv file for election data\n",
      "electionlink = 'http://elections.huffingtonpost.com/pollster/2012-general-election-romney-vs-obama.csv'\n",
      "election = pd.read_csv(electionlink)"
     ],
     "language": "python",
     "metadata": {},
     "outputs": [],
     "prompt_number": 2
    },
    {
     "cell_type": "markdown",
     "metadata": {},
     "source": [
      "Show the head of the `election` DataFrame. "
     ]
    },
    {
     "cell_type": "code",
     "collapsed": false,
     "input": [
      "# shows head of election DataFrame\n",
      "election.head()"
     ],
     "language": "python",
     "metadata": {},
     "outputs": [
      {
       "html": [
        "<div style=\"max-height:1000px;max-width:1500px;overflow:auto;\">\n",
        "<table border=\"1\" class=\"dataframe\">\n",
        "  <thead>\n",
        "    <tr style=\"text-align: right;\">\n",
        "      <th></th>\n",
        "      <th>Pollster</th>\n",
        "      <th>Start Date</th>\n",
        "      <th>End Date</th>\n",
        "      <th>Entry Date/Time (ET)</th>\n",
        "      <th>Number of Observations</th>\n",
        "      <th>Population</th>\n",
        "      <th>Mode</th>\n",
        "      <th>Obama</th>\n",
        "      <th>Romney</th>\n",
        "      <th>Undecided</th>\n",
        "      <th>Pollster URL</th>\n",
        "      <th>Source URL</th>\n",
        "      <th>Partisan</th>\n",
        "      <th>Affiliation</th>\n",
        "    </tr>\n",
        "  </thead>\n",
        "  <tbody>\n",
        "    <tr>\n",
        "      <th>0</th>\n",
        "      <td> Politico/GWU/Battleground</td>\n",
        "      <td> 2012-11-04</td>\n",
        "      <td> 2012-11-05</td>\n",
        "      <td> 2012-11-06 08:40:26</td>\n",
        "      <td> 1000</td>\n",
        "      <td> Likely Voters</td>\n",
        "      <td>      Live Phone</td>\n",
        "      <td> 47</td>\n",
        "      <td> 47</td>\n",
        "      <td>  6</td>\n",
        "      <td> http://elections.huffingtonpost.com/pollster/p...</td>\n",
        "      <td> http://www.politico.com/news/stories/1112/8338...</td>\n",
        "      <td> Nonpartisan</td>\n",
        "      <td> None</td>\n",
        "    </tr>\n",
        "    <tr>\n",
        "      <th>1</th>\n",
        "      <td>                UPI/CVOTER</td>\n",
        "      <td> 2012-11-03</td>\n",
        "      <td> 2012-11-05</td>\n",
        "      <td> 2012-11-05 18:30:15</td>\n",
        "      <td> 3000</td>\n",
        "      <td> Likely Voters</td>\n",
        "      <td>      Live Phone</td>\n",
        "      <td> 49</td>\n",
        "      <td> 48</td>\n",
        "      <td>NaN</td>\n",
        "      <td> http://elections.huffingtonpost.com/pollster/p...</td>\n",
        "      <td>                                               NaN</td>\n",
        "      <td> Nonpartisan</td>\n",
        "      <td> None</td>\n",
        "    </tr>\n",
        "    <tr>\n",
        "      <th>2</th>\n",
        "      <td>          Gravis Marketing</td>\n",
        "      <td> 2012-11-03</td>\n",
        "      <td> 2012-11-05</td>\n",
        "      <td> 2012-11-06 09:22:02</td>\n",
        "      <td>  872</td>\n",
        "      <td> Likely Voters</td>\n",
        "      <td> Automated Phone</td>\n",
        "      <td> 48</td>\n",
        "      <td> 48</td>\n",
        "      <td>  4</td>\n",
        "      <td> http://elections.huffingtonpost.com/pollster/p...</td>\n",
        "      <td> http://www.gravispolls.com/2012/11/gravis-mark...</td>\n",
        "      <td> Nonpartisan</td>\n",
        "      <td> None</td>\n",
        "    </tr>\n",
        "    <tr>\n",
        "      <th>3</th>\n",
        "      <td>      JZ Analytics/Newsmax</td>\n",
        "      <td> 2012-11-03</td>\n",
        "      <td> 2012-11-05</td>\n",
        "      <td> 2012-11-06 07:38:41</td>\n",
        "      <td> 1041</td>\n",
        "      <td> Likely Voters</td>\n",
        "      <td>        Internet</td>\n",
        "      <td> 47</td>\n",
        "      <td> 47</td>\n",
        "      <td>  6</td>\n",
        "      <td> http://elections.huffingtonpost.com/pollster/p...</td>\n",
        "      <td>                       http://www.jzanalytics.com/</td>\n",
        "      <td>     Sponsor</td>\n",
        "      <td>  Rep</td>\n",
        "    </tr>\n",
        "    <tr>\n",
        "      <th>4</th>\n",
        "      <td>                 Rasmussen</td>\n",
        "      <td> 2012-11-03</td>\n",
        "      <td> 2012-11-05</td>\n",
        "      <td> 2012-11-06 08:47:50</td>\n",
        "      <td> 1500</td>\n",
        "      <td> Likely Voters</td>\n",
        "      <td> Automated Phone</td>\n",
        "      <td> 48</td>\n",
        "      <td> 49</td>\n",
        "      <td>NaN</td>\n",
        "      <td> http://elections.huffingtonpost.com/pollster/p...</td>\n",
        "      <td> http://www.rasmussenreports.com/public_content...</td>\n",
        "      <td> Nonpartisan</td>\n",
        "      <td> None</td>\n",
        "    </tr>\n",
        "  </tbody>\n",
        "</table>\n",
        "</div>"
       ],
       "metadata": {},
       "output_type": "pyout",
       "prompt_number": 3,
       "text": [
        "                    Pollster  Start Date    End Date Entry Date/Time (ET)  \\\n",
        "0  Politico/GWU/Battleground  2012-11-04  2012-11-05  2012-11-06 08:40:26   \n",
        "1                 UPI/CVOTER  2012-11-03  2012-11-05  2012-11-05 18:30:15   \n",
        "2           Gravis Marketing  2012-11-03  2012-11-05  2012-11-06 09:22:02   \n",
        "3       JZ Analytics/Newsmax  2012-11-03  2012-11-05  2012-11-06 07:38:41   \n",
        "4                  Rasmussen  2012-11-03  2012-11-05  2012-11-06 08:47:50   \n",
        "\n",
        "   Number of Observations     Population             Mode  Obama  Romney  \\\n",
        "0                    1000  Likely Voters       Live Phone     47      47   \n",
        "1                    3000  Likely Voters       Live Phone     49      48   \n",
        "2                     872  Likely Voters  Automated Phone     48      48   \n",
        "3                    1041  Likely Voters         Internet     47      47   \n",
        "4                    1500  Likely Voters  Automated Phone     48      49   \n",
        "\n",
        "   Undecided                                       Pollster URL  \\\n",
        "0          6  http://elections.huffingtonpost.com/pollster/p...   \n",
        "1        NaN  http://elections.huffingtonpost.com/pollster/p...   \n",
        "2          4  http://elections.huffingtonpost.com/pollster/p...   \n",
        "3          6  http://elections.huffingtonpost.com/pollster/p...   \n",
        "4        NaN  http://elections.huffingtonpost.com/pollster/p...   \n",
        "\n",
        "                                          Source URL     Partisan Affiliation  \n",
        "0  http://www.politico.com/news/stories/1112/8338...  Nonpartisan        None  \n",
        "1                                                NaN  Nonpartisan        None  \n",
        "2  http://www.gravispolls.com/2012/11/gravis-mark...  Nonpartisan        None  \n",
        "3                        http://www.jzanalytics.com/      Sponsor         Rep  \n",
        "4  http://www.rasmussenreports.com/public_content...  Nonpartisan        None  "
       ]
      }
     ],
     "prompt_number": 3
    },
    {
     "cell_type": "markdown",
     "metadata": {},
     "source": [
      "How many polls were conducted in November? Define this number as M.  \n",
      "\n",
      "**Hint**: Subset the `election` DataFrame for only dates in the `Start Date` column that are in November 2012.  "
     ]
    },
    {
     "cell_type": "code",
     "collapsed": false,
     "input": [
      "# imports datetime modules needed for computation\n",
      "from pandas import to_datetime\n",
      "\n",
      "# defines start_dates data frame\n",
      "start_dates = pd.DatetimeIndex(to_datetime(election['Start Date']))\n",
      "\n",
      "# computes the number of polls with Start Dates which occured in November 2012\n",
      "M = 0\n",
      "for elem in start_dates:\n",
      "    if (elem.year == 2012 and elem.month == 11):\n",
      "        M = M+1\n",
      "        \n",
      "print \"The number of polls which started in November 2012: %i\" %M"
     ],
     "language": "python",
     "metadata": {},
     "outputs": [
      {
       "output_type": "stream",
       "stream": "stdout",
       "text": [
        "The number of polls which started in November 2012: 19\n"
       ]
      }
     ],
     "prompt_number": 6
    },
    {
     "cell_type": "markdown",
     "metadata": {},
     "source": [
      "#### Answer:\n",
      "There were 19 polls which began in Nov. 2012. "
     ]
    },
    {
     "cell_type": "markdown",
     "metadata": {},
     "source": [
      "What was the median of the number of observations in the November polls? Define this quantity as N. "
     ]
    },
    {
     "cell_type": "code",
     "collapsed": false,
     "input": [
      "# all polls with start dates in 2012\n",
      "poll2012 = election.ix[pd.DatetimeIndex(to_datetime(election['Start Date'])).year ==2012]\n",
      "\n",
      "# all polls with start dates in November 2012\n",
      "pollNov2012 = poll2012.ix[pd.DatetimeIndex(to_datetime(poll2012['Start Date'])).month == 11]\n",
      "\n",
      "# prints median number of observations\n",
      "print pollNov2012['Number of Observations'].median()\n",
      "N = pollNov2012['Number of Observations'].median()"
     ],
     "language": "python",
     "metadata": {},
     "outputs": [
      {
       "output_type": "stream",
       "stream": "stdout",
       "text": [
        "1200.0\n"
       ]
      }
     ],
     "prompt_number": 9
    },
    {
     "cell_type": "markdown",
     "metadata": {},
     "source": [
      "#### Answer: \n",
      "The median number of observations was 1200. This is the median number of people polled by all polling organizations in November 2012. "
     ]
    },
    {
     "cell_type": "markdown",
     "metadata": {},
     "source": [
      "#### Problem 2(b)\n",
      "\n",
      "Using the median sample size $N$ from Problem 1(a), simulate the results from a single poll:  simulate the number of votes for Obama out of a sample size $N$ where $p$ = 0.53 is the percent of voters who are voting for Obama.  \n",
      "\n",
      "**Hint**: Use the binomial distribution with parameters $N$ and $p$ = 0.53. "
     ]
    },
    {
     "cell_type": "code",
     "collapsed": false,
     "input": [
      "# Simulation of a single poll with N=1200 and people polled\n",
      "# and p = .53 chance of Obama winning\n",
      "\n",
      "# Code from \n",
      "# http://nbviewer.ipython.org/github/cs109/2014/blob/master/lectures/2014_09_25-lecture/Lecture-Polls.ipynb\n",
      "# by Rafael Irizarry\n",
      "\n",
      "# returns the percent of 'Obama' votes for a single poll\n",
      "def pick(N, p):\n",
      "    \"\"\"\n",
      "    Creates a list of N \"Romney\" and \"Obama\" binomially distributed with a probability p of getting \"B\"\n",
      "    \"\"\"\n",
      "    result = [np.random.binomial(1,p) for i in xrange(N)]\n",
      "    colors = [\"Romney\", \"Obama\"]\n",
      "    return [colors[val] for val in result]\n",
      "\n",
      "p = .53\n",
      "N=1200\n",
      "res = pick(N,p)\n",
      "total_votes = np.sum([x=='Obama' for x in res])\n",
      "perc_votes = round(np.mean([x=='Obama' for x in res]),3)\n",
      "print(\"Obama's total votes out of 1200: %i\" % total_votes)\n",
      "print(\"Obama's percentage of votes: %.3f\" % perc_votes)"
     ],
     "language": "python",
     "metadata": {},
     "outputs": [
      {
       "output_type": "stream",
       "stream": "stdout",
       "text": [
        "Obama's total votes out of 1200: 653\n",
        "Obama's percentage of votes: 0.544\n"
       ]
      }
     ],
     "prompt_number": 10
    },
    {
     "cell_type": "markdown",
     "metadata": {},
     "source": [
      "Now, perform a Monte Carlo simulation to obtain the estimated percentage of Obama votes with a sample size $N$ where $N$ is the median sample size calculated in Problem 2(a). Let $p$=0.53 be the percent of voters are voting for Obama. \n",
      "\n",
      "**Hint**: You will repeat the simulation above 1,000 times and plot the distribution of the estimated *percent* of Obama votes from a single poll.  The results from the single poll you simulate is random variable and will be different every time you sample. "
     ]
    },
    {
     "cell_type": "code",
     "collapsed": false,
     "input": [
      "# Monte Carlo simulation of 1000 of the single polls above\n",
      "# code from\n",
      "# http://nbviewer.ipython.org/github/cs109/2014/blob/master/lectures/2014_09_25-lecture/Lecture-Polls.ipynb\n",
      "# by Rafael Irizarry\n",
      "\n",
      "nsim = 1000\n",
      "single_avgs=[]\n",
      "for i in xrange(nsim):\n",
      "    res = pick(N,p)\n",
      "    single_avgs.append(round(np.mean([x=='Obama' for x in res]),3))"
     ],
     "language": "python",
     "metadata": {},
     "outputs": [],
     "prompt_number": 38
    },
    {
     "cell_type": "markdown",
     "metadata": {},
     "source": [
      "Plot the distribution of the estimated percentage of Obama votes from your single poll. What is the distribution of the estimated percentage of Obama votes? "
     ]
    },
    {
     "cell_type": "code",
     "collapsed": false,
     "input": [
      "# Not Homework code\n",
      "\n",
      "# Preliminary plot preparation; taken from:\n",
      "# http://nbviewer.ipython.org/github/cs109/2014/blob/master/lectures/2014_09_25-lecture/Lecture-Polls.ipynb\n",
      "# by Rafael Irizarry\n",
      "\n",
      "%matplotlib inline \n",
      "import pandas as pd\n",
      "import numpy as np\n",
      "import matplotlib.pyplot as plt\n",
      "from bs4 import BeautifulSoup\n",
      "import requests\n",
      "from pattern import web\n",
      "import scipy.stats as stats\n",
      "from scipy.stats import binom\n",
      "from __future__ import division\n",
      "import re\n",
      "\n",
      "#nice defaults for matplotlib\n",
      "from matplotlib import rcParams\n",
      "\n",
      "dark2_colors = [(0.10588235294117647, 0.6196078431372549, 0.4666666666666667),\n",
      "                (0.8509803921568627, 0.37254901960784315, 0.00784313725490196),\n",
      "                (0.4588235294117647, 0.4392156862745098, 0.7019607843137254),\n",
      "                (0.9058823529411765, 0.1607843137254902, 0.5411764705882353),\n",
      "                (0.4, 0.6509803921568628, 0.11764705882352941),\n",
      "                (0.9019607843137255, 0.6705882352941176, 0.00784313725490196),\n",
      "                (0.6509803921568628, 0.4627450980392157, 0.11372549019607843),\n",
      "                (0.4, 0.4, 0.4)]\n",
      "\n",
      "rcParams['figure.figsize'] = (10, 6)\n",
      "rcParams['figure.dpi'] = 150\n",
      "rcParams['axes.color_cycle'] = dark2_colors\n",
      "rcParams['lines.linewidth'] = 2\n",
      "rcParams['axes.grid'] = True\n",
      "rcParams['axes.facecolor'] = '#eeeeee'\n",
      "rcParams['font.size'] = 14\n",
      "rcParams['patch.edgecolor'] = 'none'"
     ],
     "language": "python",
     "metadata": {},
     "outputs": [],
     "prompt_number": 13
    },
    {
     "cell_type": "code",
     "collapsed": false,
     "input": [
      "# Histogram plot of distribution from a single poll\n",
      "\n",
      "y,x = np.histogram(single_avgs, bins=50, range = (.48,.57))\n",
      "plt.vlines(x[1:], 0, y, lw=5, colors='blue')\n",
      "plt.xlabel(\"Vote average from single poll\")\n",
      "plt.ylabel(\"Count\")\n",
      "plt.show()"
     ],
     "language": "python",
     "metadata": {},
     "outputs": [
      {
       "metadata": {},
       "output_type": "display_data",
       "png": "[encoded data removed]",
       "text": [
        "<matplotlib.figure.Figure at 0xc09dc50>"
       ]
      }
     ],
     "prompt_number": 14
    },
    {
     "cell_type": "markdown",
     "metadata": {},
     "source": [
      "#### Answer: \n",
      "\n",
      "Since the votes can only take 1 of 2 possible values, and each value is \n",
      "associated with a specific probability, the distribution above (although it doesn't look it) is a binomial distribution. Also, since we are dealing with a data set in which $Np\\gg 1$, we can approximate the binomial distribution with a gaussian distribution. So the distribution above is also approximately gaussian. "
     ]
    },
    {
     "cell_type": "markdown",
     "metadata": {},
     "source": [
      "What is the standard error (SE) of the estimated percentage from the poll? \n",
      "\n",
      "**Hint**: Remember the SE is the standard deviation (SD) of the distribution of a random variable. "
     ]
    },
    {
     "cell_type": "code",
     "collapsed": false,
     "input": [
      "# Computes the standard error (standard deviation) of the binomial distribution\n",
      "print \"Estimated percentage from single poll distribution: \", np.mean(single_avgs)\n",
      "print\n",
      "print \"SE of estimate percentage:\", np.std(single_avgs)"
     ],
     "language": "python",
     "metadata": {},
     "outputs": [
      {
       "output_type": "stream",
       "stream": "stdout",
       "text": [
        "Estimated percentage from single poll distribution:  0.52981\n",
        "\n",
        "SE of estimate percentage: 0.0141075121832\n"
       ]
      }
     ],
     "prompt_number": 19
    },
    {
     "cell_type": "markdown",
     "metadata": {},
     "source": [
      "#### Problem 2(c)\n",
      "\n",
      "Now suppose we run M polls where M is the number of polls that happened in November (calculated in Problem 2(a)). Run 1,000 simulations and compute the mean of the M polls for each simulation. "
     ]
    },
    {
     "cell_type": "code",
     "collapsed": false,
     "input": [
      "# Monte Carlo simulation of 1000 multiple poll averages\n",
      "\n",
      "sim_num=1000\n",
      "# list of poll averages\n",
      "multi_avgs =[]\n",
      "\n",
      "for k in xrange(sim_num):\n",
      "    \n",
      "    poll_num = M # the number of polls is M=19\n",
      "    multi_poll=[] # 19 poll list of percentages\n",
      "    for i in xrange(poll_num):\n",
      "        res = pick(N,p)\n",
      "        multi_poll.append(round(np.mean([x=='Obama' for x in res]),3))\n",
      "    multi_avgs.append(round(np.mean(multi_poll),3))"
     ],
     "language": "python",
     "metadata": {},
     "outputs": [],
     "prompt_number": 20
    },
    {
     "cell_type": "markdown",
     "metadata": {},
     "source": [
      "What is the distribution of the average of polls?\n",
      "\n",
      "**Hint**: Show a plot. "
     ]
    },
    {
     "cell_type": "code",
     "collapsed": false,
     "input": [
      "# Plot of the disrtibution of multiple poll averages\n",
      "\n",
      "y,x = np.histogram(multi_avgs, bins=50, range = (.48,.57))\n",
      "plt.vlines(x[1:], 0, y, lw=5, colors='blue')\n",
      "plt.xlabel(\"Vote average from multiple polls\")\n",
      "plt.ylabel(\"Counts\")\n",
      "plt.show()"
     ],
     "language": "python",
     "metadata": {},
     "outputs": [
      {
       "metadata": {},
       "output_type": "display_data",
       "png": "[encoded data removed]",
       "text": [
        "<matplotlib.figure.Figure at 0x15f09358>"
       ]
      }
     ],
     "prompt_number": 21
    },
    {
     "cell_type": "markdown",
     "metadata": {},
     "source": [
      "#### Answer: \n",
      "\n",
      "The distribution of the average of the polls is gaussian. We averaged over 19 binomial distributions and whenever we average many random variables for a specific probability distribution, the central limit theorem tells us that the probability distribution of the resulting average is a gaussian disrtibution.  "
     ]
    },
    {
     "cell_type": "markdown",
     "metadata": {},
     "source": [
      "What is the standard error (SE) of the average of polls? "
     ]
    },
    {
     "cell_type": "code",
     "collapsed": false,
     "input": [
      "#your code here\n",
      "\n",
      "print \"Estimated percentage from multiple poll distribution: \", np.mean(multi_avgs)\n",
      "print\n",
      "print \"SE of estimate percentage:\", np.std(multi_avgs)"
     ],
     "language": "python",
     "metadata": {},
     "outputs": [
      {
       "output_type": "stream",
       "stream": "stdout",
       "text": [
        "Estimated percentage from multiple poll distribution:  0.530066\n",
        "\n",
        "SE of estimate percentage: 0.00321086343528\n"
       ]
      }
     ],
     "prompt_number": 22
    },
    {
     "cell_type": "markdown",
     "metadata": {},
     "source": [
      "#### Answer: \n",
      "\n",
      "The standard error of the average of polls is 0.00321"
     ]
    },
    {
     "cell_type": "markdown",
     "metadata": {},
     "source": [
      "Is the SE of the average of polls larger, the same, or smaller than that the SD of a single poll (calculated in Problem 2(b))? By how much?\n",
      "\n",
      "**Hint**: Compute a ratio of the two quantities.  "
     ]
    },
    {
     "cell_type": "code",
     "collapsed": false,
     "input": [
      "# ratio between the two standard errors\n",
      "ratio = np.std(multi_avgs)/np.std(single_avgs)\n",
      "print \"computed ratio: %f\" %ratio\n",
      "\n",
      "# predicted ratio between the two standard errors\n",
      "pred_ratio = 1/np.sqrt(19)\n",
      "print \"predicted ratio: %f\" %pred_ratio"
     ],
     "language": "python",
     "metadata": {},
     "outputs": [
      {
       "output_type": "stream",
       "stream": "stdout",
       "text": [
        "computed ratio: 0.227600\n",
        "predicted ratio: 0.229416\n"
       ]
      }
     ],
     "prompt_number": 26
    },
    {
     "cell_type": "markdown",
     "metadata": {},
     "source": [
      "#### Answer: \n",
      "\n",
      "The standard error of the average of the polls is much smaller than the standard error of a single poll. It is smaller by a factor of about $0.228$ or as we should expect from the associated theory, $1/\\sqrt{19} \\simeq 0.229$ (since we're averaging over 19 polls)."
     ]
    },
    {
     "cell_type": "markdown",
     "metadata": {},
     "source": [
      "#### Problem 2(d) \n",
      "\n",
      "Repeat Problem 2(c) but now record the *across poll* standard deviation in each simulation. "
     ]
    },
    {
     "cell_type": "code",
     "collapsed": false,
     "input": [
      "# distribution of standard errors across 19 polls\n",
      "\n",
      "# we 'collect' results from 19 polls (with 1200 individuals polled each), \n",
      "# and compute the std among all these polls. \n",
      "\n",
      "sim_num=1000\n",
      "multi_std =[]\n",
      "for k in xrange(sim_num):\n",
      "    poll_num = 19\n",
      "    multi_poll=[]\n",
      "    for i in xrange(poll_num):\n",
      "        res = pick(N,p)\n",
      "        multi_poll.append(round(np.mean([x=='Obama' for x in res]),3))\n",
      "    multi_std.append(round(np.std(multi_poll),3))"
     ],
     "language": "python",
     "metadata": {},
     "outputs": [],
     "prompt_number": 27
    },
    {
     "cell_type": "markdown",
     "metadata": {},
     "source": [
      "What is the distribution of the *across M polls* standard deviation?\n",
      "\n",
      "**Hint**: Show a plot. "
     ]
    },
    {
     "cell_type": "code",
     "collapsed": false,
     "input": [
      "# plot of standard deviation\n",
      "y,x = np.histogram(multi_std, bins=40)\n",
      "plt.vlines(x[1:], 0, y, lw=5, colors='blue')\n",
      "plt.xlabel(\"Standard Deviation across 19 (independent) polls\")\n",
      "plt.ylabel(\"\")\n",
      "plt.show()"
     ],
     "language": "python",
     "metadata": {},
     "outputs": [
      {
       "metadata": {},
       "output_type": "display_data",
       "png": "[encoded data removed]",
       "text": [
        "<matplotlib.figure.Figure at 0x15ef2240>"
       ]
      }
     ],
     "prompt_number": 28
    },
    {
     "cell_type": "markdown",
     "metadata": {},
     "source": [
      "#### Answer: \n",
      "\n",
      "The distribution of the standard deviation across $M$ polls is gaussian. "
     ]
    },
    {
     "cell_type": "markdown",
     "metadata": {},
     "source": [
      "#### Problem 2(e) \n",
      "\n",
      "What is the standard deviation of M polls in our real (not simulated) 2012 presidential election data ? "
     ]
    },
    {
     "cell_type": "code",
     "collapsed": false,
     "input": [
      "# computes standard deviation of our 19 polls in the real data\n",
      "np.std(pollNov2012['Obama'])"
     ],
     "language": "python",
     "metadata": {},
     "outputs": [
      {
       "metadata": {},
       "output_type": "pyout",
       "prompt_number": 29,
       "text": [
        "1.0552598766190702"
       ]
      }
     ],
     "prompt_number": 29
    },
    {
     "cell_type": "markdown",
     "metadata": {},
     "source": [
      "Is this larger, the same, or smaller than what we expeced if polls were not biased."
     ]
    },
    {
     "cell_type": "code",
     "collapsed": false,
     "input": [
      "# standard deviation for 19 polls if they were each independent\n",
      "\n",
      "print \"SE of multiple polls:\", np.std(multi_avgs)"
     ],
     "language": "python",
     "metadata": {},
     "outputs": [
      {
       "output_type": "stream",
       "stream": "stdout",
       "text": [
        "SE of multiple polls: 0.00321086343528\n"
       ]
      }
     ],
     "prompt_number": 39
    },
    {
     "cell_type": "markdown",
     "metadata": {},
     "source": [
      "#### Answer: \n",
      "\n",
      "Result is larger than what we would expect if the polls were not biased."
     ]
    },
    {
     "cell_type": "markdown",
     "metadata": {},
     "source": [
      "#### Problem 2(f)\n",
      "\n",
      "**For AC209 Students**: Learn about the normal approximation for the binomial distribution and derive the results of Problem 2(b) and 2(c) analytically (using this approximation). Compare the results obtained analytically to those obtained from simulations."
     ]
    },
    {
     "cell_type": "markdown",
     "metadata": {},
     "source": [
      "#### Binomial and Gaussian Distribution\n",
      "\n",
      "In problem 2(b) we found the basic result, that a random variable which assumes one of two values with fixed probability yields what is known as a binomial distribution. By the binomial distribution,\n",
      "the probability that out of $N$ trials we get event A $k$ times where, for each trial, event A has a probability $p$ of occurring is \n",
      "$$ \\text{probability of } k\\text{ A events} = \\binom{N}{k} p^{k}(1-p)^{N-k}$$\n",
      "\n",
      "The normal approximation to the binomial distribution states that for large $N$, this binomial distribution approximates a gaussian distribution. We show this fact as follows: \n",
      "\n",
      "First we assume that for large $N$, the value of $k$ is localized around $Np$ so that if \n",
      "\\begin{eqnarray}\n",
      "k = Np +m\n",
      "\\end{eqnarray}\n",
      "then $m\\ll Np$ for the values of $k$ where $p^{k}(1-p)^{N-k}$ is not negligible. Using Stirling's approximation $N! \\sim (N/e)^N$ we can then write our probability as \n",
      "\\begin{align}\n",
      "P_{k} & = \\frac{N!}{k!(N-k)!} p^k(1-p)^{N-k}\\\\\n",
      "& = \\frac{N!}{(Np+m)!(N(1-p)-m)!} p^{Np+m}(1-p)^{(N(1-p)-m)}\\\\\n",
      "& \\sim N^N(Np+m)^{-(Np+m)}(N(1-p)-m)^{-(N(1-p)-m)}\\,p^{Np+m}(1-p)^{(N(1-p)-m)}\\\\\n",
      "& = \\left(1+\\frac{m}{Np}\\right)^{-(Np+m)}\\left(1-\\frac{m}{N(1-p)}\\right)^{-(N(1-p)-m)}\\\\\n",
      "& \\sim \\left(e^{m/Np}\\right)^{-(Np+m)}\\left(e^{-m/N(1-p)}\\right)^{-(N(1-p)-m)}\\\\\n",
      "& = e^{-m^2/Np-m} e^{-m^2/N(1-p)+m} = e^{-m^2/(Np(1-p)}\n",
      "\\end{align}\n",
      "So we have \n",
      "\\begin{equation}\n",
      "P_{k} \\sim P_{0}\\, e^{-m^2/(Np(1-p)} = P_{0}\\, e^{-{(k-Np)}^2/(Np(1-p))}\n",
      "\\end{equation}\n",
      "where $P_0$ are all the normalization factors we left out of the above calculation. From our approximations we also left out factors of $1/2$ which are important in the final result. Keeping track of these factors would have made the derivation twice as long with little added insight. In any case, including the appropriate normalization factor and the other numerical factors not included above we obtain the gaussian approximatted binomial distribution\n",
      "\\begin{equation}\n",
      "P_{k} = \\frac{1}{\\sqrt{2\\pi Np(1-p)}}\\,e^{-{m}^2/(2Np(1-p))} = \\frac{1}{\\sqrt{2\\pi Np(1-p)}}\\,e^{-{(k-Np)}^2/(2Np(1-p))} \n",
      "\\end{equation}\n",
      "From the above gaussian approximation we find that the mean of the distribution is $Np$. For our single poll with $N=1200$ voters and $p=.53$, this corresponds to $636$ votes for Obama, which is roughly what we computed from pick(N,p). Also the sample normalized standard deviation of our distribution is $\\sqrt{Np(1-p)}/N \\sim 0.0144$ which matches the result that we obtained for the SE from the Monte Carlo simulation in the last part of 2(b).\n",
      "\n",
      "We reproduce these simulated results below for convenience"
     ]
    },
    {
     "cell_type": "code",
     "collapsed": false,
     "input": [
      "print(\"Obama's total votes out of 1200: %i\" % total_votes)\n",
      "\n",
      "print \"SE of estimate percentage:\", np.std(single_avgs)"
     ],
     "language": "python",
     "metadata": {},
     "outputs": [
      {
       "output_type": "stream",
       "stream": "stdout",
       "text": [
        "Obama's total votes out of 1200: 653\n",
        "SE of estimate percentage: 0.0141075121832\n"
       ]
      }
     ],
     "prompt_number": 31
    },
    {
     "cell_type": "markdown",
     "metadata": {},
     "source": [
      "## Discussion for Problem 2\n",
      "\n",
      "*Write a brief discussion of your conclusions to the questions and tasks above in 100 words or less.*\n",
      "\n",
      "----\n",
      "\n",
      "#### Student's Discussion: \n",
      "\n",
      "The fact that the standard error from averaging many polls is much less than the standard error from a single poll, is to be expected from the central limit theorem, and indicates that multiple polls provide a more reliable estimate of the hidden probability than a single poll alone. \n",
      "\n",
      "The large standard deviation amongst the real polls suggests that each poll, although it is supposedly sampling the same data set (i.e., likely voters), is getting significantly different results. This means that the polls are using different sampling and recording methods which suggests that they are relatively biased with respect to one another. \n"
     ]
    },
    {
     "cell_type": "markdown",
     "metadata": {},
     "source": [
      "## Problem 3: Is the average of polls better than just one poll?"
     ]
    },
    {
     "cell_type": "markdown",
     "metadata": {},
     "source": [
      "#### Problem 3(a)\n",
      "\n",
      "Most undecided voters vote for one of the two candidates at the election. Therefore, the reported percentages underestimate the final value of both candidates. However, if we assume the undecided will split evenly, then the observed difference should be an unbiased estimate of the final difference. \n",
      "\n",
      "Add a new column to the `election` DataFrame containg the difference between Obama and Romeny called `Diff`. "
     ]
    },
    {
     "cell_type": "code",
     "collapsed": false,
     "input": [
      "## new election plot with the difference between Obama and Romney\n",
      "election['Difference'] = election['Obama']-election['Romney']\n",
      "election.head()"
     ],
     "language": "python",
     "metadata": {},
     "outputs": [
      {
       "html": [
        "<div style=\"max-height:1000px;max-width:1500px;overflow:auto;\">\n",
        "<table border=\"1\" class=\"dataframe\">\n",
        "  <thead>\n",
        "    <tr style=\"text-align: right;\">\n",
        "      <th></th>\n",
        "      <th>Pollster</th>\n",
        "      <th>Start Date</th>\n",
        "      <th>End Date</th>\n",
        "      <th>Entry Date/Time (ET)</th>\n",
        "      <th>Number of Observations</th>\n",
        "      <th>Population</th>\n",
        "      <th>Mode</th>\n",
        "      <th>Obama</th>\n",
        "      <th>Romney</th>\n",
        "      <th>Undecided</th>\n",
        "      <th>Pollster URL</th>\n",
        "      <th>Source URL</th>\n",
        "      <th>Partisan</th>\n",
        "      <th>Affiliation</th>\n",
        "      <th>Difference</th>\n",
        "    </tr>\n",
        "  </thead>\n",
        "  <tbody>\n",
        "    <tr>\n",
        "      <th>0</th>\n",
        "      <td> Politico/GWU/Battleground</td>\n",
        "      <td> 2012-11-04</td>\n",
        "      <td> 2012-11-05</td>\n",
        "      <td> 2012-11-06 08:40:26</td>\n",
        "      <td> 1000</td>\n",
        "      <td> Likely Voters</td>\n",
        "      <td>      Live Phone</td>\n",
        "      <td> 47</td>\n",
        "      <td> 47</td>\n",
        "      <td>  6</td>\n",
        "      <td> http://elections.huffingtonpost.com/pollster/p...</td>\n",
        "      <td> http://www.politico.com/news/stories/1112/8338...</td>\n",
        "      <td> Nonpartisan</td>\n",
        "      <td> None</td>\n",
        "      <td> 0</td>\n",
        "    </tr>\n",
        "    <tr>\n",
        "      <th>1</th>\n",
        "      <td>                UPI/CVOTER</td>\n",
        "      <td> 2012-11-03</td>\n",
        "      <td> 2012-11-05</td>\n",
        "      <td> 2012-11-05 18:30:15</td>\n",
        "      <td> 3000</td>\n",
        "      <td> Likely Voters</td>\n",
        "      <td>      Live Phone</td>\n",
        "      <td> 49</td>\n",
        "      <td> 48</td>\n",
        "      <td>NaN</td>\n",
        "      <td> http://elections.huffingtonpost.com/pollster/p...</td>\n",
        "      <td>                                               NaN</td>\n",
        "      <td> Nonpartisan</td>\n",
        "      <td> None</td>\n",
        "      <td> 1</td>\n",
        "    </tr>\n",
        "    <tr>\n",
        "      <th>2</th>\n",
        "      <td>          Gravis Marketing</td>\n",
        "      <td> 2012-11-03</td>\n",
        "      <td> 2012-11-05</td>\n",
        "      <td> 2012-11-06 09:22:02</td>\n",
        "      <td>  872</td>\n",
        "      <td> Likely Voters</td>\n",
        "      <td> Automated Phone</td>\n",
        "      <td> 48</td>\n",
        "      <td> 48</td>\n",
        "      <td>  4</td>\n",
        "      <td> http://elections.huffingtonpost.com/pollster/p...</td>\n",
        "      <td> http://www.gravispolls.com/2012/11/gravis-mark...</td>\n",
        "      <td> Nonpartisan</td>\n",
        "      <td> None</td>\n",
        "      <td> 0</td>\n",
        "    </tr>\n",
        "    <tr>\n",
        "      <th>3</th>\n",
        "      <td>      JZ Analytics/Newsmax</td>\n",
        "      <td> 2012-11-03</td>\n",
        "      <td> 2012-11-05</td>\n",
        "      <td> 2012-11-06 07:38:41</td>\n",
        "      <td> 1041</td>\n",
        "      <td> Likely Voters</td>\n",
        "      <td>        Internet</td>\n",
        "      <td> 47</td>\n",
        "      <td> 47</td>\n",
        "      <td>  6</td>\n",
        "      <td> http://elections.huffingtonpost.com/pollster/p...</td>\n",
        "      <td>                       http://www.jzanalytics.com/</td>\n",
        "      <td>     Sponsor</td>\n",
        "      <td>  Rep</td>\n",
        "      <td> 0</td>\n",
        "    </tr>\n",
        "    <tr>\n",
        "      <th>4</th>\n",
        "      <td>                 Rasmussen</td>\n",
        "      <td> 2012-11-03</td>\n",
        "      <td> 2012-11-05</td>\n",
        "      <td> 2012-11-06 08:47:50</td>\n",
        "      <td> 1500</td>\n",
        "      <td> Likely Voters</td>\n",
        "      <td> Automated Phone</td>\n",
        "      <td> 48</td>\n",
        "      <td> 49</td>\n",
        "      <td>NaN</td>\n",
        "      <td> http://elections.huffingtonpost.com/pollster/p...</td>\n",
        "      <td> http://www.rasmussenreports.com/public_content...</td>\n",
        "      <td> Nonpartisan</td>\n",
        "      <td> None</td>\n",
        "      <td>-1</td>\n",
        "    </tr>\n",
        "  </tbody>\n",
        "</table>\n",
        "</div>"
       ],
       "metadata": {},
       "output_type": "pyout",
       "prompt_number": 40,
       "text": [
        "                    Pollster  Start Date    End Date Entry Date/Time (ET)  \\\n",
        "0  Politico/GWU/Battleground  2012-11-04  2012-11-05  2012-11-06 08:40:26   \n",
        "1                 UPI/CVOTER  2012-11-03  2012-11-05  2012-11-05 18:30:15   \n",
        "2           Gravis Marketing  2012-11-03  2012-11-05  2012-11-06 09:22:02   \n",
        "3       JZ Analytics/Newsmax  2012-11-03  2012-11-05  2012-11-06 07:38:41   \n",
        "4                  Rasmussen  2012-11-03  2012-11-05  2012-11-06 08:47:50   \n",
        "\n",
        "   Number of Observations     Population             Mode  Obama  Romney  \\\n",
        "0                    1000  Likely Voters       Live Phone     47      47   \n",
        "1                    3000  Likely Voters       Live Phone     49      48   \n",
        "2                     872  Likely Voters  Automated Phone     48      48   \n",
        "3                    1041  Likely Voters         Internet     47      47   \n",
        "4                    1500  Likely Voters  Automated Phone     48      49   \n",
        "\n",
        "   Undecided                                       Pollster URL  \\\n",
        "0          6  http://elections.huffingtonpost.com/pollster/p...   \n",
        "1        NaN  http://elections.huffingtonpost.com/pollster/p...   \n",
        "2          4  http://elections.huffingtonpost.com/pollster/p...   \n",
        "3          6  http://elections.huffingtonpost.com/pollster/p...   \n",
        "4        NaN  http://elections.huffingtonpost.com/pollster/p...   \n",
        "\n",
        "                                          Source URL     Partisan Affiliation  \\\n",
        "0  http://www.politico.com/news/stories/1112/8338...  Nonpartisan        None   \n",
        "1                                                NaN  Nonpartisan        None   \n",
        "2  http://www.gravispolls.com/2012/11/gravis-mark...  Nonpartisan        None   \n",
        "3                        http://www.jzanalytics.com/      Sponsor         Rep   \n",
        "4  http://www.rasmussenreports.com/public_content...  Nonpartisan        None   \n",
        "\n",
        "   Difference  \n",
        "0           0  \n",
        "1           1  \n",
        "2           0  \n",
        "3           0  \n",
        "4          -1  "
       ]
      }
     ],
     "prompt_number": 40
    },
    {
     "cell_type": "markdown",
     "metadata": {},
     "source": [
      "#### Problem 3(b)\n",
      "\n",
      "Make a plot of the differences for the week before the election (e.g. 5 days) where the days are on the x-axis and the differences are on the y-axis.  Add a horizontal line showing 3.9%: the difference between Obama and Romney on election day."
     ]
    },
    {
     "cell_type": "code",
     "collapsed": false,
     "input": [
      "# necessary module\n",
      "from pandas import to_datetime\n",
      "from pandas import datetime\n",
      "\n",
      "# creates election_dates file which is in datetime format\n",
      "election_dates = to_datetime(election['Entry Date/Time (ET)'])\n",
      "\n",
      "# creates Days until election column\n",
      "# give election end time of 6pm on Nov 6, 2012\n",
      "election['Days until election'] = datetime(2012,11,6, 18, 0, 0)-election_dates\n",
      "\n",
      "# allows us to convert the date time data into numerical data \n",
      "# which can be plotted\n",
      "from numpy import timedelta64\n",
      "electiondays = election['Days until election'].astype('timedelta64[D]')\n",
      "\n",
      "# sets time after election to newly created electiondays column\n",
      "election['Days until election'] = electiondays;\n",
      "\n",
      "#choosing time of five days before election\n",
      "before_elec = election[0<= election['Days until election']];\n",
      "week_elec = before_elec[before_elec['Days until election']<=5]\n",
      "\n",
      "# plot of poll results five days before election\n",
      "week_elec.plot(x = 'Days until election', y = 'Difference', xlim = (6,-1), kind = 'scatter',figsize=(7,7), title = 'O-R vote differences versus day before election')\n",
      "plt.axhline( y=3.9, hold=None, lw = 1, color = 'black')"
     ],
     "language": "python",
     "metadata": {},
     "outputs": [
      {
       "metadata": {},
       "output_type": "pyout",
       "prompt_number": 47,
       "text": [
        "<matplotlib.lines.Line2D at 0x164b5f60>"
       ]
      },
      {
       "metadata": {},
       "output_type": "display_data",
       "png": "[encoded data removed]",
       "text": [
        "<matplotlib.figure.Figure at 0xc09da90>"
       ]
      }
     ],
     "prompt_number": 47
    },
    {
     "cell_type": "markdown",
     "metadata": {},
     "source": [
      "#### Problem 3(c) \n",
      "\n",
      "Make a plot showing the differences by pollster where the pollsters are on the x-axis and the differences on the y-axis. "
     ]
    },
    {
     "cell_type": "code",
     "collapsed": false,
     "input": [
      "#your code here\n",
      "\n",
      "# plot of Obama-Romney vote difference by polling organization\n",
      "# we select differences from the last year before the election\n",
      "\n",
      "# defines relevant data\n",
      "pollster_elec = election[['Pollster','Difference','Days until election']]\n",
      "\n",
      "# selects data for year 2012\n",
      "pollster_elec = pollster_elec[pollster_elec['Days until election']<=310]\n",
      "\n",
      "# creates boxplot\n",
      "pollster_elec.boxplot('Difference', by = 'Pollster', rot = 90, figsize=(14,8))\n",
      "\n",
      "#plots a solid line at the actual election result \n",
      "# plots a red dotted line at the average of all the polls\n",
      "plt.axhline( y=3.9, hold=None, lw = 1, color = 'black')\n",
      "plt.axhline(y=np.mean(pollster_elec['Difference']),  hold=None, lw = 1, linestyle = '--', color = 'red')\n",
      "\n",
      "plt.title(\"Obama-Romney Vote Difference for Each Pollster 2012\")\n",
      "plt.ylabel('Vote differences')\n",
      "plt.show()"
     ],
     "language": "python",
     "metadata": {},
     "outputs": [
      {
       "metadata": {},
       "output_type": "display_data",
       "png": "[encoded data removed]",
       "text": [
        "<matplotlib.figure.Figure at 0x1785d940>"
       ]
      }
     ],
     "prompt_number": 54
    },
    {
     "cell_type": "markdown",
     "metadata": {},
     "source": [
      "Is the *across poll* difference larger than the *between pollster* difference? "
     ]
    },
    {
     "cell_type": "markdown",
     "metadata": {},
     "source": [
      "#### Answer: \n",
      "\n",
      "We will calculate the 'across poll' spread by calculating the standard deviation of the entire data set. \n",
      "\n",
      "We will calculate the 'between pollster' spread by calculating the standard deviations for all polling organizations, and then computing the average of these standard deviations. "
     ]
    },
    {
     "cell_type": "code",
     "collapsed": false,
     "input": [
      "print \"Average 'Between Pollster' Spread: %f\" %np.mean(pollster_elec[['Pollster','Difference']].groupby('Pollster').std())\n",
      "print \"Spread 'Across All Polls': %f\" %np.std(pollster_elec['Difference'])"
     ],
     "language": "python",
     "metadata": {},
     "outputs": [
      {
       "output_type": "stream",
       "stream": "stdout",
       "text": [
        "Average 'Between Pollster' Spread: 2.749944\n",
        "Spread 'Across All Polls': 3.567808\n"
       ]
      }
     ],
     "prompt_number": 55
    },
    {
     "cell_type": "markdown",
     "metadata": {},
     "source": [
      "There is more spread across the entire poll than there is, on average, within a single polling organization. "
     ]
    },
    {
     "cell_type": "markdown",
     "metadata": {},
     "source": [
      "#### Problem 3(d)\n",
      "\n",
      "Take the average for each pollster and then compute the average of that. Given this difference how confident would you have been of an Obama victory?\n",
      "\n",
      "**Hint**: Compute an estimate of the SE of this average based exclusively on the observed data. "
     ]
    },
    {
     "cell_type": "code",
     "collapsed": false,
     "input": [
      "# computing the average of the pollsters\n",
      "pollster_elec[['Difference','Pollster']].groupby('Pollster').mean()\n",
      "\n",
      "# computing the average of the average of the pollsters\n",
      "print \"Mean difference: %f\" % np.mean(pollster_elec[['Difference','Pollster']].groupby('Pollster').mean())\n",
      "\n",
      "# computing the standard error of the difference\n",
      "print \"Standard Error of difference: %f\" %np.std(pollster_elec[['Difference','Pollster']].groupby('Pollster').mean())"
     ],
     "language": "python",
     "metadata": {},
     "outputs": [
      {
       "output_type": "stream",
       "stream": "stdout",
       "text": [
        "Mean difference: 2.472994\n",
        "Standard Error of difference: 2.851221\n"
       ]
      }
     ],
     "prompt_number": 56
    },
    {
     "cell_type": "markdown",
     "metadata": {},
     "source": [
      "#### Answer: \n",
      "\n",
      "The standard error of the difference is of the same order as the mean difference itself, so it is not exceedingly accurate. But modeling the mean and standard error as corresponding to a normal distribution (a not unreasonable assumption considering we are averaging over many 'random variables') we find that the probability that Obama would win by a difference of say 0.5 points is about "
     ]
    },
    {
     "cell_type": "code",
     "collapsed": false,
     "input": [
      "# statistics package\n",
      "import scipy.stats\n",
      "\n",
      "mu = 2.473; # mean difference\n",
      "sigma = 2.851; # standard error of difference\n",
      "diff_lim = 0.5; # difference limit for win\n",
      "\n",
      "# sf is the survival function\n",
      "scipy.stats.norm(mu,sigma).sf(diff_lim)"
     ],
     "language": "python",
     "metadata": {},
     "outputs": [
      {
       "metadata": {},
       "output_type": "pyout",
       "prompt_number": 57,
       "text": [
        "0.75554323002462787"
       ]
      }
     ],
     "prompt_number": 57
    },
    {
     "cell_type": "markdown",
     "metadata": {},
     "source": [
      "So according to the above statistics there was a 76% chance that obama would win with a greater than or equal to 0.5 point margin. That is, we should have been reasonably confident of an Obama victory. "
     ]
    },
    {
     "cell_type": "markdown",
     "metadata": {},
     "source": [
      "#### Problem 3(e)\n",
      "\n",
      "**For AC209 Students**: Show the difference against time and see if you can detect a trend towards the end. Use this trend to see if it improves the final estimate."
     ]
    },
    {
     "cell_type": "code",
     "collapsed": false,
     "input": [
      "#### We will plot the differences for the last 90 days of the election\n",
      "\n",
      "# necessary package\n",
      "from scipy.optimize import curve_fit\n",
      "\n",
      "# Selects out last 90 days of polls\n",
      "last90 = pollster_elec[pollster_elec['Days until election']<=90];\n",
      "last90 = last90[last90['Days until election']>=0];\n",
      "\n",
      "# Average vote difference for all the polls each day\n",
      "last90_avg = last90.groupby('Days until election', as_index = False).mean()\n",
      "\n",
      "### Trend line of the average differences; uses a basic power series\n",
      "\n",
      "days = list(last90_avg['Days until election']);\n",
      "diffs = list(last90_avg['Difference']);\n",
      "\n",
      "# definition of trend line function as a power series\n",
      "def func(x, a0, a1, a2, a3, a4, a5, a6):\n",
      "    return a0 + a1*np.power(x,1) +a2*np.power(x,2)+a3*np.power(x,3)+a4*np.power(x,4)+a5*np.power(x,5)+a6*np.power(x,6)\n",
      "popt, pcov = curve_fit(func, days, diffs)\n",
      "[a0, a1, a2, a3, a4, a5, a6] = popt \n",
      "\n",
      "# plot of trend line function\n",
      "plt.plot(days,func(days,a0, a1, a2, a3, a4, a5, a6), 'b-')\n",
      "# scatter plot of days and differences\n",
      "plt.plot(days, diffs, 'ro')\n",
      "plt.xlim([90,0]) # decreasing axis\n",
      "print\n",
      "print 'Prediction of election day vote difference: %f' %a0"
     ],
     "language": "python",
     "metadata": {},
     "outputs": [
      {
       "output_type": "stream",
       "stream": "stdout",
       "text": [
        "\n",
        "Prediction of election day vote difference: 1.052017\n"
       ]
      },
      {
       "metadata": {},
       "output_type": "display_data",
       "png": "[encoded data removed]",
       "text": [
        "<matplotlib.figure.Figure at 0x17a64748>"
       ]
      }
     ],
     "prompt_number": 62
    },
    {
     "cell_type": "markdown",
     "metadata": {},
     "source": [
      "#### Answer: \n",
      "\n",
      "The predicted election day result (1.05) underestimates the actual result (3.9), by about two points so the trend line does not yield a 'reasonably correct' prediction. Our error most likely is in weighing all the polls equally when we computed the average prediction for each day.\n",
      "\n",
      "Alternative, if we were to use a more sophisticated fitting algorithm which did not require a one-to-one correspondence between the domain and range, we could have used the original scatter plot to define a more reasonable fitting function. The lowess procedure seems to be such an algorithm which would produce a better fit. "
     ]
    },
    {
     "cell_type": "markdown",
     "metadata": {},
     "source": [
      "## Discussion for Problem 3\n",
      "\n",
      "*Write a brief discussion of your conclusions to the questions and tasks above in 100 words or less.*\n",
      "\n",
      "---\n",
      "\n",
      "#### Student Discussion \n",
      "\n",
      "The purpose of this problem was to investigate whether the average of many pollster was a better predictor of election outcome than a single pollster. Although, we did not compute the predictions suggested for each pollster, we did find that the average of the average of the pollsters did produce a prediction which was within 2 points of the actual value (predicted: 2.5, actual: 3.9). Most likely to obtain a more accurate prediction we would have to do a weighted average of the pollsters based on their historical accuracy. "
     ]
    },
    {
     "cell_type": "markdown",
     "metadata": {},
     "source": [
      "## Problem 4\n",
      "\n",
      "In this last problem, we will use the polls from the [2014 Senate Midterm Elections](http://elections.huffingtonpost.com/pollster) from the [HuffPost Pollster API](http://elections.huffingtonpost.com/pollster/api) to create a preliminary prediction of the result of each state. \n",
      "\n",
      "The HuffPost Pollster API allows you to access the data as a CSV or a JSON response by tacking \".csv\" or \".json\" at the end of the URLs. For example the 2012 Presidential Election could be accessed as a [.json](http://elections.huffingtonpost.com/pollster/2012-general-election-romney-vs-obama.json) instead of a [.csv](http://elections.huffingtonpost.com/pollster/2012-general-election-romney-vs-obama.csv)"
     ]
    },
    {
     "cell_type": "markdown",
     "metadata": {},
     "source": [
      "#### Problem 4(a)\n",
      "\n",
      "Read in the polls for **all** of the 2014 Senate Elections using the HuffPost API. For example, we can consider the [2014 Senate race in Kentucky between Mitch McConnell and Alison Grimes](http://elections.huffingtonpost.com/pollster/2014-kentucky-senate-mcconnell-vs-grimes). \n",
      "\n",
      "To search for the 2014 Senate races, use the `topics` parameter in the API [[read more about topics here](http://elections.huffingtonpost.com/pollster/api)].  "
     ]
    },
    {
     "cell_type": "code",
     "collapsed": false,
     "input": [
      "url_str = \"http://elections.huffingtonpost.com/pollster/api/charts/?topic=2014-senate\""
     ],
     "language": "python",
     "metadata": {},
     "outputs": [],
     "prompt_number": 63
    },
    {
     "cell_type": "markdown",
     "metadata": {},
     "source": [
      "To list all the URLs related to the 2014 Senate races using the pollster API, we can use a list comprehension:"
     ]
    },
    {
     "cell_type": "code",
     "collapsed": false,
     "input": [
      "election_urls = [election['url'] + '.csv' for election in requests.get(url_str).json()]\n",
      "election_urls"
     ],
     "language": "python",
     "metadata": {},
     "outputs": [
      {
       "metadata": {},
       "output_type": "pyout",
       "prompt_number": 64,
       "text": [
        "[u'http://elections.huffingtonpost.com/pollster/2014-kentucky-senate-mcconnell-vs-grimes.csv',\n",
        " u'http://elections.huffingtonpost.com/pollster/2014-arkansas-senate-cotton-vs-pryor.csv',\n",
        " u'http://elections.huffingtonpost.com/pollster/2014-michigan-senate-land-vs-peters.csv',\n",
        " u'http://elections.huffingtonpost.com/pollster/2014-louisiana-senate-cassidy-vs-landrieu.csv',\n",
        " u'http://elections.huffingtonpost.com/pollster/2014-new-hampshire-senate-brown-vs-shaheen.csv',\n",
        " u'http://elections.huffingtonpost.com/pollster/2014-west-virginia-senate-capito-vs-tennant.csv',\n",
        " u'http://elections.huffingtonpost.com/pollster/2014-new-hampshire-senate-bass-vs-shaheen.csv',\n",
        " u'http://elections.huffingtonpost.com/pollster/2014-north-carolina-senate-tillis-vs-hagan.csv',\n",
        " u'http://elections.huffingtonpost.com/pollster/2014-virginia-senate-gillespie-vs-warner.csv',\n",
        " u'http://elections.huffingtonpost.com/pollster/2014-colorado-senate-gardner-vs-udall.csv',\n",
        " u'http://elections.huffingtonpost.com/pollster/2014-illinois-senate-oberweis-vs-durbin.csv',\n",
        " u'http://elections.huffingtonpost.com/pollster/2014-alaska-senate-sullivan-vs-begich.csv',\n",
        " u'http://elections.huffingtonpost.com/pollster/2014-iowa-senate-ernst-vs-braley.csv',\n",
        " u'http://elections.huffingtonpost.com/pollster/2014-mississippi-senate-cochran-vs-childers.csv',\n",
        " u'http://elections.huffingtonpost.com/pollster/2014-oregon-senate-wehby-vs-merkley.csv',\n",
        " u'http://elections.huffingtonpost.com/pollster/2014-georgia-senate-perdue-vs-nunn.csv',\n",
        " u'http://elections.huffingtonpost.com/pollster/2014-louisiana-senate-sasse-vs-domina.csv',\n",
        " u'http://elections.huffingtonpost.com/pollster/2014-south-dakota-senate-rounds-vs-weiland.csv',\n",
        " u'http://elections.huffingtonpost.com/pollster/2014-maine-senate-collins-vs-bellows.csv',\n",
        " u'http://elections.huffingtonpost.com/pollster/2014-minnesota-senate-mcfadden-vs-franken.csv',\n",
        " u'http://elections.huffingtonpost.com/pollster/2014-texas-senate-cornyn-vs-alameel.csv',\n",
        " u'http://elections.huffingtonpost.com/pollster/2014-south-carolina-senate-graham-vs-hutto.csv',\n",
        " u'http://elections.huffingtonpost.com/pollster/2014-south-carolina-senate-scott-vs-dickerson.csv',\n",
        " u'http://elections.huffingtonpost.com/pollster/2014-oklahoma-senate-inhofe-vs-silverstein.csv',\n",
        " u'http://elections.huffingtonpost.com/pollster/2014-new-mexico-senate-weh-vs-udall.csv',\n",
        " u'http://elections.huffingtonpost.com/pollster/2014-new-jersey-senate-bell-vs-booker.csv',\n",
        " u'http://elections.huffingtonpost.com/pollster/2014-idaho-senate-risch-vs-mitchell.csv',\n",
        " u'http://elections.huffingtonpost.com/pollster/2014-tennessee-senate-alexander-vs-ball.csv',\n",
        " u'http://elections.huffingtonpost.com/pollster/2014-wyoming-senate.csv',\n",
        " u'http://elections.huffingtonpost.com/pollster/2014-kansas-senate-roberts-vs-orman-vs-taylor.csv',\n",
        " u'http://elections.huffingtonpost.com/pollster/2014-hawaii-senate-cavasso-vs-schatz.csv',\n",
        " u'http://elections.huffingtonpost.com/pollster/2014-oklahoma-senate-lankford-vs-johnson.csv',\n",
        " u'http://elections.huffingtonpost.com/pollster/2014-montana-senate-daines-vs-curtis.csv',\n",
        " u'http://elections.huffingtonpost.com/pollster/2014-rhode-island-senate-zaccaria-vs-reed.csv',\n",
        " u'http://elections.huffingtonpost.com/pollster/2014-massachusetts-senate-herr-vs-markey.csv',\n",
        " u'http://elections.huffingtonpost.com/pollster/2014-delaware-senate-wade-vs-coons.csv']"
       ]
      }
     ],
     "prompt_number": 64
    },
    {
     "cell_type": "markdown",
     "metadata": {},
     "source": [
      "Because there so many Senate races, we can create a dictionary of pandas DataFrames that will be keyed by the name of the election (a string). "
     ]
    },
    {
     "cell_type": "code",
     "collapsed": false,
     "input": [
      "def build_frame(url):\n",
      "    \"\"\"\n",
      "    Returns a pandas DataFrame object containing\n",
      "    the data returned from the given url\n",
      "    \"\"\"\n",
      "    source = requests.get(url).text\n",
      "    \n",
      "    # Use StringIO because pd.DataFrame.from_csv requires .read() method\n",
      "    s = StringIO(source)\n",
      "    \n",
      "    return pd.DataFrame.from_csv(s, index_col=None).convert_objects(\n",
      "            convert_dates=\"coerce\", convert_numeric=True)"
     ],
     "language": "python",
     "metadata": {},
     "outputs": [],
     "prompt_number": 65
    },
    {
     "cell_type": "code",
     "collapsed": false,
     "input": [
      "# Makes a dictionary of pandas DataFrames keyed on election string.\n",
      "dfs = dict((election.split(\"/\")[-1][:-4], build_frame(election)) for election in election_urls)"
     ],
     "language": "python",
     "metadata": {},
     "outputs": [],
     "prompt_number": 66
    },
    {
     "cell_type": "markdown",
     "metadata": {},
     "source": [
      "Show the head of the DataFrame containing the polls for the 2014 Senate race in Kentucky between McConnell and Grimes."
     ]
    },
    {
     "cell_type": "code",
     "collapsed": false,
     "input": [
      "# McConnell and Grimes data frame\n",
      "dfs['2014-kentucky-senate-mcconnell-vs-grimes'].head()"
     ],
     "language": "python",
     "metadata": {},
     "outputs": [
      {
       "html": [
        "<div style=\"max-height:1000px;max-width:1500px;overflow:auto;\">\n",
        "<table border=\"1\" class=\"dataframe\">\n",
        "  <thead>\n",
        "    <tr style=\"text-align: right;\">\n",
        "      <th></th>\n",
        "      <th>Pollster</th>\n",
        "      <th>Start Date</th>\n",
        "      <th>End Date</th>\n",
        "      <th>Entry Date/Time (ET)</th>\n",
        "      <th>Number of Observations</th>\n",
        "      <th>Population</th>\n",
        "      <th>Mode</th>\n",
        "      <th>McConnell</th>\n",
        "      <th>Grimes</th>\n",
        "      <th>Undecided</th>\n",
        "      <th>Pollster URL</th>\n",
        "      <th>Source URL</th>\n",
        "      <th>Partisan</th>\n",
        "      <th>Affiliation</th>\n",
        "    </tr>\n",
        "  </thead>\n",
        "  <tbody>\n",
        "    <tr>\n",
        "      <th>0</th>\n",
        "      <td>                       Mellman (D-Grimes)</td>\n",
        "      <td>2014-09-19</td>\n",
        "      <td>2014-09-27</td>\n",
        "      <td>2014-10-01 15:13:47</td>\n",
        "      <td> 1800</td>\n",
        "      <td> Likely Voters</td>\n",
        "      <td>      Live Phone</td>\n",
        "      <td> 40</td>\n",
        "      <td> 42</td>\n",
        "      <td> 16</td>\n",
        "      <td> http://elections.huffingtonpost.com/pollster/p...</td>\n",
        "      <td> http://images.politico.com/global/2014/09/30/m...</td>\n",
        "      <td>     Sponsor</td>\n",
        "      <td>  Dem</td>\n",
        "    </tr>\n",
        "    <tr>\n",
        "      <th>1</th>\n",
        "      <td>                  Gravis/Human Events (R)</td>\n",
        "      <td>2014-09-13</td>\n",
        "      <td>2014-09-16</td>\n",
        "      <td>2014-09-19 14:57:03</td>\n",
        "      <td>  839</td>\n",
        "      <td> Likely Voters</td>\n",
        "      <td> Automated Phone</td>\n",
        "      <td> 51</td>\n",
        "      <td> 41</td>\n",
        "      <td>  8</td>\n",
        "      <td> http://elections.huffingtonpost.com/pollster/p...</td>\n",
        "      <td> http://gravismarketing.com/polling-and-market-...</td>\n",
        "      <td>     Sponsor</td>\n",
        "      <td>  Rep</td>\n",
        "    </tr>\n",
        "    <tr>\n",
        "      <th>2</th>\n",
        "      <td>                            Ipsos/Reuters</td>\n",
        "      <td>2014-09-08</td>\n",
        "      <td>2014-09-12</td>\n",
        "      <td>2014-09-22 15:23:23</td>\n",
        "      <td>  944</td>\n",
        "      <td> Likely Voters</td>\n",
        "      <td>        Internet</td>\n",
        "      <td> 46</td>\n",
        "      <td> 42</td>\n",
        "      <td>  6</td>\n",
        "      <td> http://elections.huffingtonpost.com/pollster/p...</td>\n",
        "      <td>     http://ipsos-na.com/download/pr.aspx?id=13904</td>\n",
        "      <td> Nonpartisan</td>\n",
        "      <td> None</td>\n",
        "    </tr>\n",
        "    <tr>\n",
        "      <th>3</th>\n",
        "      <td> Magellan (R-National Mining Association)</td>\n",
        "      <td>2014-09-04</td>\n",
        "      <td>2014-09-07</td>\n",
        "      <td>2014-09-10 15:44:29</td>\n",
        "      <td>  742</td>\n",
        "      <td> Likely Voters</td>\n",
        "      <td> Automated Phone</td>\n",
        "      <td> 50</td>\n",
        "      <td> 42</td>\n",
        "      <td>  2</td>\n",
        "      <td> http://elections.huffingtonpost.com/pollster/p...</td>\n",
        "      <td> http://www.slideshare.net/MagellanStrat/nation...</td>\n",
        "      <td>     Sponsor</td>\n",
        "      <td>  Rep</td>\n",
        "    </tr>\n",
        "    <tr>\n",
        "      <th>4</th>\n",
        "      <td>                       Mellman (D-Grimes)</td>\n",
        "      <td>2014-09-04</td>\n",
        "      <td>2014-09-07</td>\n",
        "      <td>2014-09-10 18:53:37</td>\n",
        "      <td>  800</td>\n",
        "      <td> Likely Voters</td>\n",
        "      <td>      Live Phone</td>\n",
        "      <td> 42</td>\n",
        "      <td> 43</td>\n",
        "      <td> 15</td>\n",
        "      <td> http://elections.huffingtonpost.com/pollster/p...</td>\n",
        "      <td> http://images.politico.com/global/2014/09/09/1...</td>\n",
        "      <td>     Sponsor</td>\n",
        "      <td>  Dem</td>\n",
        "    </tr>\n",
        "  </tbody>\n",
        "</table>\n",
        "</div>"
       ],
       "metadata": {},
       "output_type": "pyout",
       "prompt_number": 67,
       "text": [
        "                                   Pollster Start Date   End Date  \\\n",
        "0                        Mellman (D-Grimes) 2014-09-19 2014-09-27   \n",
        "1                   Gravis/Human Events (R) 2014-09-13 2014-09-16   \n",
        "2                             Ipsos/Reuters 2014-09-08 2014-09-12   \n",
        "3  Magellan (R-National Mining Association) 2014-09-04 2014-09-07   \n",
        "4                        Mellman (D-Grimes) 2014-09-04 2014-09-07   \n",
        "\n",
        "  Entry Date/Time (ET)  Number of Observations     Population  \\\n",
        "0  2014-10-01 15:13:47                    1800  Likely Voters   \n",
        "1  2014-09-19 14:57:03                     839  Likely Voters   \n",
        "2  2014-09-22 15:23:23                     944  Likely Voters   \n",
        "3  2014-09-10 15:44:29                     742  Likely Voters   \n",
        "4  2014-09-10 18:53:37                     800  Likely Voters   \n",
        "\n",
        "              Mode  McConnell  Grimes  Undecided  \\\n",
        "0       Live Phone         40      42         16   \n",
        "1  Automated Phone         51      41          8   \n",
        "2         Internet         46      42          6   \n",
        "3  Automated Phone         50      42          2   \n",
        "4       Live Phone         42      43         15   \n",
        "\n",
        "                                        Pollster URL  \\\n",
        "0  http://elections.huffingtonpost.com/pollster/p...   \n",
        "1  http://elections.huffingtonpost.com/pollster/p...   \n",
        "2  http://elections.huffingtonpost.com/pollster/p...   \n",
        "3  http://elections.huffingtonpost.com/pollster/p...   \n",
        "4  http://elections.huffingtonpost.com/pollster/p...   \n",
        "\n",
        "                                          Source URL     Partisan Affiliation  \n",
        "0  http://images.politico.com/global/2014/09/30/m...      Sponsor         Dem  \n",
        "1  http://gravismarketing.com/polling-and-market-...      Sponsor         Rep  \n",
        "2      http://ipsos-na.com/download/pr.aspx?id=13904  Nonpartisan        None  \n",
        "3  http://www.slideshare.net/MagellanStrat/nation...      Sponsor         Rep  \n",
        "4  http://images.politico.com/global/2014/09/09/1...      Sponsor         Dem  "
       ]
      }
     ],
     "prompt_number": 67
    },
    {
     "cell_type": "markdown",
     "metadata": {},
     "source": [
      "#### Problem 4(b)\n",
      "\n",
      "For each 2014 Senate race, create a preliminary prediction of the result for that state."
     ]
    },
    {
     "cell_type": "code",
     "collapsed": false,
     "input": [
      "# We predict each Senate race by doing a nake average of the pollster\n",
      "# differences in each race. Thus we assume (as we did in this pset) that\n",
      "# the undecided vote splits down the middle. \n",
      "\n",
      "# It is stupid to do a simple average of the polls, but we do so as\n",
      "# a simple first step in obtaining a prediction. \n",
      "\n",
      "# for loop cycles through all races\n",
      "for i in xrange(len(dfs.keys())):\n",
      "    election_name = dfs.keys()[i] # gets the name of a race\n",
      "    election_frame = dfs[election_name] # selects the data frame for race\n",
      "    print election_name\n",
      "\n",
      "    #gets candidate names; only takes first two, most prominent candidates\n",
      "    can1 = election_frame.T.reset_index()['index'][7]\n",
      "    can2 = election_frame.T.reset_index()['index'][8]\n",
      "\n",
      "    # Creats column of differences\n",
      "    election_frame['Difference'] = election_frame[can1]-election_frame[can2];\n",
      "    \n",
      "    # Selects out needed data sets\n",
      "    pollster_elec = election_frame[['Pollster','Difference','Entry Date/Time (ET)']]\n",
      "\n",
      "    # our prediction is a simple averaging over polls\n",
      "    mean = np.mean(pollster_elec.groupby('Pollster').mean())['Difference']\n",
      "    # we include the error of our prediction for sanity \n",
      "    std = np.std(pollster_elec.groupby('Pollster').mean())['Difference']\n",
      "\n",
      "    if mean> 0:\n",
      "        print \"%s beats %s by %f  points with a spread of %f. \" %(can1,can2, mean, std)\n",
      "    else: \n",
      "        print \"%s beats %s by %f  points with a spread of %f. \" %(can2,can1, -mean, std)\n",
      "    \n",
      "    print "
     ],
     "language": "python",
     "metadata": {},
     "outputs": [
      {
       "output_type": "stream",
       "stream": "stdout",
       "text": [
        "2014-montana-senate-daines-vs-curtis\n",
        "Daines beats Curtis by 19.000000  points with a spread of 1.000000. \n",
        "\n",
        "2014-north-carolina-senate-tillis-vs-hagan\n",
        "Hagan beats Tillis by 2.162500  points with a spread of 2.248993. "
       ]
      },
      {
       "output_type": "stream",
       "stream": "stdout",
       "text": [
        "\n",
        "\n",
        "2014-tennessee-senate-alexander-vs-ball\n",
        "Alexander beats Ball by 17.750000  points with a spread of 2.750000. \n",
        "\n",
        "2014-michigan-senate-land-vs-peters\n",
        "Peters beats Land by 4.392000  points with a spread of 4.109764. "
       ]
      },
      {
       "output_type": "stream",
       "stream": "stdout",
       "text": [
        "\n",
        "\n",
        "2014-wyoming-senate\n",
        "Enzi beats Hardy by 40.500000  points with a spread of 4.500000. \n",
        "\n",
        "2014-alaska-senate-sullivan-vs-begich\n",
        "Begich beats Sullivan by 0.848485  points with a spread of 5.081882. "
       ]
      },
      {
       "output_type": "stream",
       "stream": "stdout",
       "text": [
        "\n",
        "\n",
        "2014-oregon-senate-wehby-vs-merkley\n",
        "Merkley beats Wehby by 10.450000  points with a spread of 6.893657. "
       ]
      },
      {
       "output_type": "stream",
       "stream": "stdout",
       "text": [
        "\n",
        "\n",
        "2014-new-hampshire-senate-brown-vs-shaheen\n",
        "Shaheen beats Brown by 6.055263  points with a spread of 3.182555. \n",
        "\n",
        "2014-mississippi-senate-cochran-vs-childers\n",
        "Cochran beats Childers by 15.166667  points with a spread of 0.942809. "
       ]
      },
      {
       "output_type": "stream",
       "stream": "stdout",
       "text": [
        "\n",
        "\n",
        "2014-rhode-island-senate-zaccaria-vs-reed\n",
        "Reed beats Zaccaria by 27.500000  points with a spread of 7.500000. \n",
        "\n",
        "2014-new-jersey-senate-bell-vs-booker\n",
        "Booker beats Bell by 13.416667  points with a spread of 3.114705. \n",
        "\n",
        "2014-virginia-senate-gillespie-vs-warner\n",
        "Warner beats Gillespie by 15.833333  points with a spread of 6.155395. "
       ]
      },
      {
       "output_type": "stream",
       "stream": "stdout",
       "text": [
        "\n",
        "\n",
        "2014-south-dakota-senate-rounds-vs-weiland\n",
        "Rounds beats Weiland by 14.987500  points with a spread of 5.367830. \n",
        "\n",
        "2014-kentucky-senate-mcconnell-vs-grimes\n",
        "McConnell beats Grimes by 1.909722  points with a spread of 3.049070. "
       ]
      },
      {
       "output_type": "stream",
       "stream": "stdout",
       "text": [
        "\n",
        "\n",
        "2014-iowa-senate-ernst-vs-braley\n",
        "Braley beats Ernst by 0.936111  points with a spread of 3.407093. \n",
        "\n",
        "2014-oklahoma-senate-inhofe-vs-silverstein\n",
        "Inhofe beats Silverstein by 29.500000  points with a spread of 1.500000. "
       ]
      },
      {
       "output_type": "stream",
       "stream": "stdout",
       "text": [
        "\n",
        "\n",
        "2014-illinois-senate-oberweis-vs-durbin\n",
        "Durbin beats Oberweis by 12.142857  points with a spread of 5.383270. \n",
        "\n",
        "2014-south-carolina-senate-graham-vs-hutto\n",
        "Graham beats Hutto by 15.625000  points with a spread of 2.902047. \n",
        "\n",
        "2014-maine-senate-collins-vs-bellows\n",
        "Collins beats Bellows by 36.800000  points with a spread of 10.303397. "
       ]
      },
      {
       "output_type": "stream",
       "stream": "stdout",
       "text": [
        "\n",
        "\n",
        "2014-west-virginia-senate-capito-vs-tennant\n",
        "Capito beats Tennant by 12.035714  points with a spread of 4.322757. \n",
        "\n",
        "2014-hawaii-senate-cavasso-vs-schatz\n",
        "Schatz beats Cavasso by 34.833333  points with a spread of 2.094968. \n",
        "\n",
        "2014-louisiana-senate-sasse-vs-domina\n",
        "Sasse beats Domina by 22.750000  points with a spread of 1.750000. "
       ]
      },
      {
       "output_type": "stream",
       "stream": "stdout",
       "text": [
        "\n",
        "\n",
        "2014-delaware-senate-wade-vs-coons\n",
        "Coons beats Wade by 17.666667  points with a spread of 5.249339. \n",
        "\n",
        "2014-massachusetts-senate-herr-vs-markey\n",
        "Markey beats Herr by 24.166667  points with a spread of 3.387067. \n",
        "\n",
        "2014-minnesota-senate-mcfadden-vs-franken\n",
        "Franken beats McFadden by 11.208333  points with a spread of 3.307976. "
       ]
      },
      {
       "output_type": "stream",
       "stream": "stdout",
       "text": [
        "\n",
        "\n",
        "2014-louisiana-senate-cassidy-vs-landrieu\n",
        "Cassidy beats Landrieu by 0.317708  points with a spread of 4.988896. \n",
        "\n",
        "2014-georgia-senate-perdue-vs-nunn\n",
        "Perdue beats Nunn by 2.666667  points with a spread of 4.329387. \n",
        "\n",
        "2014-kansas-senate-roberts-vs-orman-vs-taylor\n",
        "Roberts beats Orman by 5.166667  points with a spread of 11.964067. "
       ]
      },
      {
       "output_type": "stream",
       "stream": "stdout",
       "text": [
        "\n",
        "\n",
        "2014-oklahoma-senate-lankford-vs-johnson\n",
        "Lankford beats Johnson by 28.500000  points with a spread of 0.500000. \n",
        "\n",
        "2014-new-mexico-senate-weh-vs-udall\n",
        "Udall beats Weh by 16.375000  points with a spread of 2.534142. \n",
        "\n",
        "2014-idaho-senate-risch-vs-mitchell\n",
        "Risch beats Mitchell by 29.500000  points with a spread of 4.500000. "
       ]
      },
      {
       "output_type": "stream",
       "stream": "stdout",
       "text": [
        "\n",
        "\n",
        "2014-texas-senate-cornyn-vs-alameel\n",
        "Cornyn beats Alameel by 16.250000  points with a spread of 3.112475. \n",
        "\n",
        "2014-arkansas-senate-cotton-vs-pryor\n",
        "Cotton beats Pryor by 0.271505  points with a spread of 4.745115. \n",
        "\n",
        "2014-south-carolina-senate-scott-vs-dickerson\n",
        "Scott beats Dickerson by 19.833333  points with a spread of 1.840894. "
       ]
      },
      {
       "output_type": "stream",
       "stream": "stdout",
       "text": [
        "\n",
        "\n",
        "2014-colorado-senate-gardner-vs-udall\n",
        "Udall beats Gardner by 1.034314  points with a spread of 3.086056. \n",
        "\n",
        "2014-new-hampshire-senate-bass-vs-shaheen\n",
        "Shaheen beats Bass by 15.333333  points with a spread of 3.858612. \n",
        "\n"
       ]
      }
     ],
     "prompt_number": 69
    },
    {
     "cell_type": "markdown",
     "metadata": {},
     "source": [
      "# Submission Instructions\n",
      "\n",
      "To submit your homework, create a folder named **lastname_firstinitial_hw#** and place your IPython notebooks, data files, and any other files in this folder. Your IPython Notebooks should be completely executed with the results visible in the notebook. We should not have to run any code.  Compress the folder (please use .zip compression) and submit to the CS109 dropbox in the appropriate folder. *If we cannot access your work because these directions are not followed correctly, we will not grade your work.*\n"
     ]
    },
    {
     "cell_type": "code",
     "collapsed": false,
     "input": [],
     "language": "python",
     "metadata": {},
     "outputs": []
    }
   ],
   "metadata": {}
  }
 ]
}